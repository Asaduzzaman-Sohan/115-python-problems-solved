{
 "cells": [
  {
   "cell_type": "markdown",
   "id": "cd047d38-bdca-4d32-9424-2611a8a6d060",
   "metadata": {},
   "source": [
    "# Swipe variables"
   ]
  },
  {
   "cell_type": "code",
   "execution_count": 1,
   "id": "185ef331-2d17-4bec-a514-e55e25dc052f",
   "metadata": {},
   "outputs": [
    {
     "name": "stdout",
     "output_type": "stream",
     "text": [
      "12\n",
      "10\n"
     ]
    }
   ],
   "source": [
    "x = 10\n",
    "y = 12\n",
    "\n",
    "x = x + y\n",
    "y = x - y\n",
    "x = x - y\n",
    "\n",
    "print(x)\n",
    "print(y)"
   ]
  },
  {
   "cell_type": "markdown",
   "id": "54eb8f46-ac07-4db0-88c4-e195d62f8feb",
   "metadata": {},
   "source": [
    "# Even or Odd"
   ]
  },
  {
   "cell_type": "code",
   "execution_count": 2,
   "id": "b4e32b96-3a08-4261-92a2-a8d8df2ec39a",
   "metadata": {},
   "outputs": [
    {
     "name": "stdin",
     "output_type": "stream",
     "text": [
      " 8\n"
     ]
    },
    {
     "name": "stdout",
     "output_type": "stream",
     "text": [
      "8 x is an even number\n"
     ]
    }
   ],
   "source": [
    "x = int(input())\n",
    "\n",
    "if x%2 == 0:\n",
    "    print(x, \"x is an even number\")\n",
    "else:\n",
    "    print(x, \"x is an odd number\")"
   ]
  },
  {
   "cell_type": "markdown",
   "id": "9877f45a-7ebd-4431-86ad-94bd90e73818",
   "metadata": {},
   "source": [
    "# Reverse String"
   ]
  },
  {
   "cell_type": "code",
   "execution_count": 3,
   "id": "aadcfe8c-d83d-4059-8cb7-d038fe19fcd1",
   "metadata": {},
   "outputs": [
    {
     "name": "stdin",
     "output_type": "stream",
     "text": [
      "input:  Leon Scott Kennedy\n"
     ]
    },
    {
     "name": "stdout",
     "output_type": "stream",
     "text": [
      "ydenneK ttocS noeL\n"
     ]
    }
   ],
   "source": [
    "x = input(\"input: \")\n",
    "\n",
    "for i in x:\n",
    "    i = x[::-1]\n",
    "    print(i)\n",
    "    break"
   ]
  },
  {
   "cell_type": "markdown",
   "id": "d84cd062-a5bf-424f-b080-7836c24575c3",
   "metadata": {},
   "source": [
    "# Type Conversion:"
   ]
  },
  {
   "cell_type": "code",
   "execution_count": 4,
   "id": "15fb8da9-b76a-46ca-94c0-5f76742dbe25",
   "metadata": {},
   "outputs": [
    {
     "name": "stdout",
     "output_type": "stream",
     "text": [
      "0 <class 'str'>\n",
      "1 <class 'str'>\n",
      "2 <class 'str'>\n",
      "3 <class 'str'>\n",
      "4 <class 'str'>\n",
      "5 <class 'str'>\n",
      "6 <class 'str'>\n",
      "7 <class 'str'>\n",
      "8 <class 'str'>\n",
      "9 <class 'str'>\n"
     ]
    }
   ],
   "source": [
    "interger_list = [0, 1, 2, 3, 4, 5, 6, 7, 8, 9]\n",
    "\n",
    "for i in interger_list:\n",
    "    conv = str(i)\n",
    "    print(conv, type(conv))"
   ]
  },
  {
   "cell_type": "markdown",
   "id": "698fdda8-b2fd-4fd0-b32e-9a2d5b677b98",
   "metadata": {},
   "source": [
    "# Temperature Converter"
   ]
  },
  {
   "cell_type": "code",
   "execution_count": 5,
   "id": "15278659-065d-47bb-bc9e-739d306dd88a",
   "metadata": {},
   "outputs": [
    {
     "name": "stdin",
     "output_type": "stream",
     "text": [
      "celcius:  100\n"
     ]
    },
    {
     "name": "stdout",
     "output_type": "stream",
     "text": [
      "fahrenheit: 212.0\n"
     ]
    }
   ],
   "source": [
    "\n",
    "def cel_to_fahr(temperature_celcius):\n",
    "    fahrenheit = (temperature_celcius * 9/5) + 32\n",
    "    return fahrenheit\n",
    "\n",
    "temperature_celcius = int(input(\"celcius: \"))\n",
    "\n",
    "print(\"fahrenheit:\", cel_to_fahr(temperature_celcius))\n",
    "    "
   ]
  },
  {
   "cell_type": "markdown",
   "id": "39c6e526-376d-4530-9530-b01beb6ba7a1",
   "metadata": {},
   "source": [
    "# Data Type Checker"
   ]
  },
  {
   "cell_type": "code",
   "execution_count": 6,
   "id": "043e8348-2ff3-41a4-b506-a976a0748140",
   "metadata": {},
   "outputs": [
    {
     "name": "stdout",
     "output_type": "stream",
     "text": [
      "int\n",
      "float\n",
      "str\n",
      "list\n"
     ]
    }
   ],
   "source": [
    "def type_checker(input_data):\n",
    "    data_type = type(input_data).__name__\n",
    "    return data_type\n",
    "\n",
    "var1 = 138\n",
    "var2 = 3.1416\n",
    "var3 = \"Hello, Python\"\n",
    "var4 = [2, \"as\", True, 52.0]\n",
    "\n",
    "print(type_checker(var1))\n",
    "print(type_checker(var2))\n",
    "print(type_checker(var3))\n",
    "print(type_checker(var4))"
   ]
  },
  {
   "cell_type": "markdown",
   "id": "c4f7058c-be81-4f8b-a7d6-bf21bd1ff28c",
   "metadata": {},
   "source": [
    "# String Palindrome"
   ]
  },
  {
   "cell_type": "code",
   "execution_count": 7,
   "id": "b0c75911-9937-497e-a7f0-bdfa8a770cb9",
   "metadata": {},
   "outputs": [
    {
     "name": "stdin",
     "output_type": "stream",
     "text": [
      "input:  racecar\n"
     ]
    },
    {
     "name": "stdout",
     "output_type": "stream",
     "text": [
      "This is palindrome\n"
     ]
    },
    {
     "name": "stdin",
     "output_type": "stream",
     "text": [
      "input:  palindrome\n"
     ]
    },
    {
     "name": "stdout",
     "output_type": "stream",
     "text": [
      "This is not palindrome\n"
     ]
    }
   ],
   "source": [
    "def is_palindrome(input_var):\n",
    "    input_string = input_var.lower()\n",
    "    reverse_string = input_string[::-1]\n",
    "    if input_string == reverse_string:\n",
    "        return \"This is palindrome\"\n",
    "    else:\n",
    "        return \"This is not palindrome\"\n",
    "\n",
    "input_var =  input(\"input: \")\n",
    "print(is_palindrome(input_var))\n",
    "\n",
    "input_var =  input(\"input: \")\n",
    "print(is_palindrome(input_var))"
   ]
  },
  {
   "cell_type": "markdown",
   "id": "cc52b531-69b9-4010-bbf6-c3c178ec02da",
   "metadata": {},
   "source": [
    "# String Reversal with Slicing"
   ]
  },
  {
   "cell_type": "code",
   "execution_count": 8,
   "id": "5527f86d-1fd2-43f6-a576-1930ea864220",
   "metadata": {},
   "outputs": [
    {
     "name": "stdin",
     "output_type": "stream",
     "text": [
      "Input a string:  Hello, World!\n"
     ]
    },
    {
     "name": "stdout",
     "output_type": "stream",
     "text": [
      "!dlroW ,olleH\n"
     ]
    }
   ],
   "source": [
    "def str_reverse(input_str):\n",
    "    reverse_str = input_str[::-1]\n",
    "    return reverse_str\n",
    "\n",
    "input_str = input(\"Input a string: \")\n",
    "print(str_reverse(input_str))"
   ]
  },
  {
   "cell_type": "markdown",
   "id": "07dcfac7-d082-4bfd-8fa8-23fd904721b0",
   "metadata": {},
   "source": [
    "# String Concatenation"
   ]
  },
  {
   "cell_type": "code",
   "execution_count": 9,
   "id": "002c80e5-c39a-4ff2-a0ce-7fa9ecce5151",
   "metadata": {},
   "outputs": [
    {
     "name": "stdin",
     "output_type": "stream",
     "text": [
      "First name:  Claire\n",
      "Last name:  Redfield\n"
     ]
    },
    {
     "name": "stdout",
     "output_type": "stream",
     "text": [
      "Claire Redfield\n"
     ]
    }
   ],
   "source": [
    "first_name = input(\"First name: \")\n",
    "last_name = input(\"Last name: \")\n",
    "\n",
    "print(first_name, last_name)"
   ]
  },
  {
   "cell_type": "markdown",
   "id": "d699b52d-5e4b-4613-8e3a-4e80818a6b7b",
   "metadata": {},
   "source": [
    "# Typecasting Challenge"
   ]
  },
  {
   "cell_type": "code",
   "execution_count": 10,
   "id": "bdd16231-8567-47e9-9920-003ca3d5b5c6",
   "metadata": {},
   "outputs": [
    {
     "name": "stdout",
     "output_type": "stream",
     "text": [
      "a + b = 125\n",
      "add - c = 114.5\n",
      "114.5 is the result\n"
     ]
    }
   ],
   "source": [
    "a = \"100\"\n",
    "b = 25\n",
    "c = \"10.5\"\n",
    "\n",
    "a = int(a)\n",
    "add = a + b\n",
    "print(f\"a + b = {add}\")\n",
    "c = float(c)\n",
    "final = add - c\n",
    "print(f\"add - c = {final}\")\n",
    "print(final, \"is the result\")"
   ]
  },
  {
   "cell_type": "markdown",
   "id": "405b4ea4-3a00-41d9-9917-96872b272d2a",
   "metadata": {},
   "source": [
    "#  Positive, Negative, or Zero"
   ]
  },
  {
   "cell_type": "code",
   "execution_count": 11,
   "id": "cdb4620e-db70-4d6e-ad16-bf7ceadce2e0",
   "metadata": {},
   "outputs": [
    {
     "name": "stdin",
     "output_type": "stream",
     "text": [
      "Input a number:  45\n"
     ]
    },
    {
     "name": "stdout",
     "output_type": "stream",
     "text": [
      "45 is a positive value\n"
     ]
    }
   ],
   "source": [
    "n = int(input(\"Input a number: \"))\n",
    "\n",
    "if n < 0:\n",
    "    print(n, \"is a negative value\")\n",
    "\n",
    "elif n > 0:\n",
    "    print(n, \"is a positive value\")\n",
    "\n",
    "else:\n",
    "    print(n, \"is zero\")\n",
    "    "
   ]
  },
  {
   "cell_type": "markdown",
   "id": "077cbd47-2bc4-49e3-987d-368841e977c5",
   "metadata": {},
   "source": [
    "# Largest of Three Numbers"
   ]
  },
  {
   "cell_type": "code",
   "execution_count": 12,
   "id": "b27e6879-cdce-4992-ad76-b18e4ae54a9f",
   "metadata": {},
   "outputs": [
    {
     "name": "stdout",
     "output_type": "stream",
     "text": [
      "15 is the biggest number.\n"
     ]
    }
   ],
   "source": [
    "a = 12\n",
    "b = 10\n",
    "c = 15\n",
    "\n",
    "if a < b:\n",
    "    if b > c:\n",
    "        print(b, \"is the biggest number among three.\")\n",
    "    else:\n",
    "        print(c, \"is the biggest number among three.\")\n",
    "\n",
    "elif a > b:\n",
    "    if a > c:\n",
    "        print(a, \"is the biggest number.\")\n",
    "    else:\n",
    "        print(c, \"is the biggest number.\")\n",
    "\n",
    "else:\n",
    "    print(\"Invalid number\")\n",
    "        "
   ]
  },
  {
   "cell_type": "markdown",
   "id": "dcbf6c21-b18d-4839-bf7e-d7183b19b4ab",
   "metadata": {},
   "source": [
    "# Leap Year Checker"
   ]
  },
  {
   "cell_type": "code",
   "execution_count": 13,
   "id": "924e4039-9998-4257-92e3-46bf8186e57c",
   "metadata": {},
   "outputs": [
    {
     "name": "stdin",
     "output_type": "stream",
     "text": [
      " 2023\n"
     ]
    },
    {
     "name": "stdout",
     "output_type": "stream",
     "text": [
      "2023 is  not a leap year\n"
     ]
    }
   ],
   "source": [
    "year = int(input())\n",
    "\n",
    "if (year % 4 == 0 and year % 100 != 0) or (year % 400 == 0):\n",
    "    print(year, \"is a leap year\")\n",
    "else:\n",
    "    print(year, \"is  not a leap year\")"
   ]
  },
  {
   "cell_type": "markdown",
   "id": "6410c7fe-1fab-4b10-a76c-1c9f6c476bc7",
   "metadata": {},
   "source": [
    "# Grades Classification"
   ]
  },
  {
   "cell_type": "code",
   "execution_count": 14,
   "id": "3cbd1f9c-d48f-4eaf-8a03-9b9c2cdee00b",
   "metadata": {},
   "outputs": [
    {
     "name": "stdin",
     "output_type": "stream",
     "text": [
      "marks:  53\n"
     ]
    },
    {
     "name": "stdout",
     "output_type": "stream",
     "text": [
      "Abba to me: Haramzada tui abar fail korsos? 🤬\n"
     ]
    }
   ],
   "source": [
    "student_mark = int(input(\"marks: \"))\n",
    "\n",
    "if student_mark <= 100 and student_mark >= 90:\n",
    "    print(student_mark, \"Grade: A+\")\n",
    "\n",
    "elif student_mark <= 89 and student_mark >= 80:\n",
    "    print(student_mark, \"Grade: A\")\n",
    "\n",
    "elif student_mark <= 79 and student_mark >= 70:\n",
    "    print(student_mark, \"Grade: B\")\n",
    "\n",
    "elif student_mark <= 69 and student_mark >= 60:\n",
    "    print(student_mark, \"Grade: C\")\n",
    "\n",
    "else:\n",
    "    print(\"Abba to me: Haramzada tui abar fail korsos? 🤬\")\n",
    "    \n",
    "    \n",
    "    "
   ]
  },
  {
   "cell_type": "markdown",
   "id": "8dd2fd93-4c0c-4326-b4d4-2fda0b7fc4e6",
   "metadata": {},
   "source": [
    "# Vowel or Consonant"
   ]
  },
  {
   "cell_type": "code",
   "execution_count": 15,
   "id": "adbb4b87-aa39-485e-96a2-bb613b8ae79f",
   "metadata": {},
   "outputs": [
    {
     "name": "stdin",
     "output_type": "stream",
     "text": [
      "alphabet:  y\n"
     ]
    },
    {
     "name": "stdout",
     "output_type": "stream",
     "text": [
      "y is a consonent\n"
     ]
    }
   ],
   "source": [
    "input_char = input(\"alphabet: \")\n",
    "\n",
    "if len(input_char) == 1 and (input_char == 'a' or input_char == 'e' or input_char == 'i' or input_char == 'o' or input_char == 'u'):\n",
    "    print(input_char, \"is a vowel\")\n",
    "\n",
    "elif len(input_char) > 1:\n",
    "    print(\"Input a single alphabet\")\n",
    "    \n",
    "else:\n",
    "    print(input_char, \"is a consonent\")"
   ]
  },
  {
   "cell_type": "markdown",
   "id": "8e7ced1a-e88e-4ad7-9a41-eca2fc78fc13",
   "metadata": {},
   "source": [
    "# Time Classification"
   ]
  },
  {
   "cell_type": "code",
   "execution_count": 18,
   "id": "6184a548-5263-4c23-a711-2b300bfa5128",
   "metadata": {},
   "outputs": [
    {
     "name": "stdout",
     "output_type": "stream",
     "text": [
      "0\n",
      "Good night\n"
     ]
    }
   ],
   "source": [
    "import datetime\n",
    "current_time = datetime.datetime.now()  \n",
    "\n",
    "print(current_time.hour)\n",
    "\n",
    "if current_time.hour >= 6 and current_time.hour < 12:\n",
    "    print('Good mcurrent_timeorning')\n",
    "    \n",
    "elif current_time.hour >= 12 and current_time.hour < 15 :\n",
    "    print('Good noon')\n",
    "    \n",
    "elif current_time.hour >= 15 and current_time.hour < 18 :\n",
    "    print('Good evening')\n",
    "    \n",
    "elif current_time.hour >= 18 and current_time.hour < 20 :\n",
    "    print('Good evening')\n",
    "    \n",
    "else:\n",
    "    print(\"Good night\")"
   ]
  },
  {
   "cell_type": "markdown",
   "id": "b55b9b43-8474-4795-a5fe-208dfee314d7",
   "metadata": {},
   "source": [
    "#  Triangle Type Checker"
   ]
  },
  {
   "cell_type": "code",
   "execution_count": 20,
   "id": "70bab9dc-76d6-4ef6-9b52-db08f8efc436",
   "metadata": {},
   "outputs": [
    {
     "name": "stdin",
     "output_type": "stream",
     "text": [
      "x =  2\n",
      "y =  2\n",
      "z =  3\n"
     ]
    },
    {
     "name": "stdout",
     "output_type": "stream",
     "text": [
      "The triangle is isosceles\n"
     ]
    }
   ],
   "source": [
    "x = int(input(\"x = \"))\n",
    "y = int(input(\"y = \"))\n",
    "z = int(input(\"z = \"))\n",
    "\n",
    "def triangle_type(x, y, z):\n",
    "\n",
    "    if x == y == z:\n",
    "        return \"The triangle is equilateral\"\n",
    "        \n",
    "    elif x == y or y == z or z == x:\n",
    "        return \"The triangle is isosceles\"\n",
    "        \n",
    "    else:\n",
    "        return \"The triangle is scalene\"\n",
    "\n",
    "print(triangle_type(x, y, z))"
   ]
  },
  {
   "cell_type": "markdown",
   "id": "d59fa3cc-0437-453b-80ab-e60430c4b95e",
   "metadata": {},
   "source": [
    "# Quadratic Equation Solver\n",
    "The equation is:\n",
    "\n",
    "ax2 + bx + c = 0, where\n",
    "\n",
    "a, b and c are real numbers and \n",
    "\n",
    "a != 0\n",
    "\n",
    "* formula: (-b ± (b ** 2 - 4 * a * c) ** 0.5) / (2 * a)a)\r\n",
    " 0"
   ]
  },
  {
   "cell_type": "code",
   "execution_count": 21,
   "id": "78a71ac1-7584-4c16-99e9-8e99720d98b3",
   "metadata": {},
   "outputs": [
    {
     "name": "stdin",
     "output_type": "stream",
     "text": [
      "a = 3\n",
      "b = 4\n",
      "c = 5\n"
     ]
    },
    {
     "name": "stdout",
     "output_type": "stream",
     "text": [
      "The solution are -2.0423388845975277 and 0.7090055512641943\n"
     ]
    }
   ],
   "source": [
    "# without implement of cmath library\n",
    "\n",
    "a = int(input(\"a =\"))\n",
    "b = int(input(\"b =\"))\n",
    "c = int(input(\"c =\"))\n",
    "\n",
    "d = (b ** 2) - ((4 * a * c) ** 0.5)\n",
    "\n",
    "solution1 = (-b - d)/(2*a)\n",
    "solution2 = (-b + d)/(2*a)\n",
    "\n",
    "print(f\"The solution are {solution1} and {solution2}\")"
   ]
  },
  {
   "cell_type": "code",
   "execution_count": 22,
   "id": "030c82ec-cfdd-49c3-b767-1e99d87037ac",
   "metadata": {},
   "outputs": [
    {
     "name": "stdin",
     "output_type": "stream",
     "text": [
      "a = 3\n",
      "b = 4\n",
      "c = 5\n"
     ]
    },
    {
     "name": "stdout",
     "output_type": "stream",
     "text": [
      "The solution are (-0.6666666666666666-1.1055415967851332j) and (-0.6666666666666666+1.1055415967851332j)\n"
     ]
    }
   ],
   "source": [
    "# with implement of cmath library\n",
    "import cmath\n",
    "\n",
    "a = int(input(\"a =\"))\n",
    "b = int(input(\"b =\"))\n",
    "c = int(input(\"c =\"))\n",
    "\n",
    "d = (b ** 2) - (4 * a * c)\n",
    "\n",
    "solution1 = (-b - cmath.sqrt(d))/(2*a)\n",
    "solution2 = (-b + cmath.sqrt(d))/(2*a)\n",
    "\n",
    "print(f\"The solution are {solution1} and {solution2}\")"
   ]
  },
  {
   "cell_type": "code",
   "execution_count": 23,
   "id": "60edb182-5346-4c9c-80e4-573e59fd05e5",
   "metadata": {},
   "outputs": [
    {
     "name": "stdin",
     "output_type": "stream",
     "text": [
      "number:  123\n"
     ]
    },
    {
     "name": "stdout",
     "output_type": "stream",
     "text": [
      "123 ranges: 101 - 150\n"
     ]
    }
   ],
   "source": [
    "n = int(input(\"number: \"))\n",
    "\n",
    "if n >= 0 and n <= 50:\n",
    "    print(n, \"ranges: 0 - 50\")\n",
    "\n",
    "elif n >= 51 and n <= 100:\n",
    "    print(n, \"ranges: 51 - 100\")\n",
    "\n",
    "elif n >= 101 and n <= 150:\n",
    "    print(n, \"ranges: 101 - 150\")\n",
    "\n",
    "else:\n",
    "    if n > 150:\n",
    "        print(n, \"ranges: above 150\")\n",
    "    else:\n",
    "        print(n, \"ranges: negative\")"
   ]
  },
  {
   "cell_type": "markdown",
   "id": "392c1382-dd13-4ea8-9263-4184827f5c66",
   "metadata": {},
   "source": [
    "# Number Ranges"
   ]
  },
  {
   "cell_type": "markdown",
   "id": "dc96ac6e-bdd9-42b6-ba7d-2693fba4b8ae",
   "metadata": {},
   "source": [
    "# Sum of N Numbers"
   ]
  },
  {
   "cell_type": "code",
   "execution_count": 24,
   "id": "57996e1f-4df5-4d85-a843-1f6c3a7f0817",
   "metadata": {},
   "outputs": [
    {
     "name": "stdin",
     "output_type": "stream",
     "text": [
      "input: 7\n"
     ]
    },
    {
     "name": "stdout",
     "output_type": "stream",
     "text": [
      "28\n"
     ]
    }
   ],
   "source": [
    "n = int(input(\"input:\"))\n",
    "\n",
    "sum = 0\n",
    "\n",
    "for i in range (1, n+1, 1):\n",
    "    sum = sum + i\n",
    "    \n",
    "print(sum)"
   ]
  },
  {
   "cell_type": "markdown",
   "id": "fa2c097d-2f8e-4003-9634-2ef5526b179a",
   "metadata": {},
   "source": [
    "# Factorial Calculator"
   ]
  },
  {
   "cell_type": "code",
   "execution_count": 25,
   "id": "c3b57f21-b533-4119-89ae-9dbf50508d12",
   "metadata": {},
   "outputs": [
    {
     "name": "stdin",
     "output_type": "stream",
     "text": [
      "num: 19\n"
     ]
    },
    {
     "name": "stdout",
     "output_type": "stream",
     "text": [
      "1\n",
      "2\n",
      "6\n",
      "24\n",
      "120\n",
      "720\n",
      "5040\n",
      "40320\n",
      "362880\n",
      "3628800\n",
      "39916800\n",
      "479001600\n",
      "6227020800\n",
      "87178291200\n",
      "1307674368000\n",
      "20922789888000\n",
      "355687428096000\n",
      "6402373705728000\n",
      "121645100408832000\n"
     ]
    }
   ],
   "source": [
    "num = int(input(\"num:\"))\n",
    "\n",
    "i = 1\n",
    "factorial = 1\n",
    "\n",
    "while i <= num:\n",
    "    factorial = factorial * i\n",
    "    i = i + 1\n",
    "    print(factorial)"
   ]
  },
  {
   "cell_type": "markdown",
   "id": "30da4c22-abc2-4568-b820-96936aaeb698",
   "metadata": {},
   "source": [
    "# Table of a Number"
   ]
  },
  {
   "cell_type": "code",
   "execution_count": 26,
   "id": "fdbf3f16-d356-4235-aebb-5ebecabda147",
   "metadata": {},
   "outputs": [
    {
     "name": "stdin",
     "output_type": "stream",
     "text": [
      "Table of: 16\n"
     ]
    },
    {
     "name": "stdout",
     "output_type": "stream",
     "text": [
      "16 x 1 = 16\n",
      "16 x 2 = 32\n",
      "16 x 3 = 48\n",
      "16 x 4 = 64\n",
      "16 x 5 = 80\n",
      "16 x 6 = 96\n",
      "16 x 7 = 112\n",
      "16 x 8 = 128\n",
      "16 x 9 = 144\n",
      "16 x 10 = 160\n"
     ]
    }
   ],
   "source": [
    "n = int(input(\"Table of:\"))\n",
    "\n",
    "for i in range(1, 11, 1):\n",
    "    print(f\"{n} x {i} = {n*i}\")\n",
    "    "
   ]
  },
  {
   "cell_type": "markdown",
   "id": "2c051fd7-4e5e-4f7b-8870-b0478f317437",
   "metadata": {},
   "source": [
    "# Count Digits in a Number"
   ]
  },
  {
   "cell_type": "code",
   "execution_count": 27,
   "id": "73cd74dc-db38-45d4-b45e-ad99c2758869",
   "metadata": {},
   "outputs": [
    {
     "name": "stdin",
     "output_type": "stream",
     "text": [
      "n: 567\n"
     ]
    },
    {
     "name": "stdout",
     "output_type": "stream",
     "text": [
      "Number of digits in the input: 3\n"
     ]
    }
   ],
   "source": [
    "n = int(input(\"n:\"))\n",
    "\n",
    "digit_count = 0\n",
    "\n",
    "if n == 0:\n",
    "    digit_coun = 1\n",
    "\n",
    "while n != 0:\n",
    "    n //= 10\n",
    "    digit_count += 1\n",
    "    \n",
    "print(\"Number of digits in the input:\", digit_count)"
   ]
  },
  {
   "cell_type": "markdown",
   "id": "313a9fad-8bdf-414a-a043-9039db7546b1",
   "metadata": {},
   "source": [
    "# Fibonacci Sequence"
   ]
  },
  {
   "cell_type": "code",
   "execution_count": 28,
   "id": "fef2d390-23d4-4516-a402-359cc7d93434",
   "metadata": {},
   "outputs": [
    {
     "name": "stdin",
     "output_type": "stream",
     "text": [
      "Enter the limit for the Fibonacci sequence:  5\n"
     ]
    },
    {
     "name": "stdout",
     "output_type": "stream",
     "text": [
      "Fibonacci sequence up to the limit N: [0, 1, 1, 2, 3, 5]\n"
     ]
    }
   ],
   "source": [
    "N = int(input(\"Enter the limit for the Fibonacci sequence: \"))\n",
    "a, b = 0, 1\n",
    "fibonacci_sequence = []\n",
    "\n",
    "while a <= N:\n",
    "    fibonacci_sequence.append(a)\n",
    "    a, b = b, a + b\n",
    "\n",
    "print(\"Fibonacci sequence up to the limit N:\", fibonacci_sequence)\n"
   ]
  },
  {
   "cell_type": "markdown",
   "id": "899cc21a-73b4-4914-87a4-c1c3b4f48d6c",
   "metadata": {},
   "source": [
    "# Sum of Even Numbers"
   ]
  },
  {
   "cell_type": "code",
   "execution_count": 30,
   "id": "aa02f473-9e5a-4f4d-afd0-0330fe43875a",
   "metadata": {},
   "outputs": [
    {
     "name": "stdin",
     "output_type": "stream",
     "text": [
      " 10\n"
     ]
    },
    {
     "name": "stdout",
     "output_type": "stream",
     "text": [
      "30\n"
     ]
    }
   ],
   "source": [
    "even_number = int(input())\n",
    "n = 0\n",
    "sum = 0\n",
    "while n <= even_number:\n",
    "    n += 1\n",
    "\n",
    "    if n % 2 == 0:    \n",
    "        sum = sum + n\n",
    "        \n",
    "print(sum)"
   ]
  },
  {
   "cell_type": "markdown",
   "id": "e6d9bcfe-2140-4ae7-ae65-da9180d64a0e",
   "metadata": {},
   "source": [
    "#  Print Patterns"
   ]
  },
  {
   "cell_type": "code",
   "execution_count": 31,
   "id": "4f22c50d-90dd-425f-9ebd-b41df42717ae",
   "metadata": {},
   "outputs": [
    {
     "name": "stdin",
     "output_type": "stream",
     "text": [
      "Enter the number of rows:  5\n"
     ]
    },
    {
     "name": "stdout",
     "output_type": "stream",
     "text": [
      "Right-Angled Triangle:\n",
      "* \n",
      "* * \n",
      "* * * \n",
      "* * * * \n",
      "* * * * * \n",
      "\n",
      "Inverted Right-Angled Triangle:\n",
      "* * * * * \n",
      "* * * * \n",
      "* * * \n",
      "* * \n",
      "* \n",
      "\n",
      "Pyramid:\n",
      "    *\n",
      "   ***\n",
      "  *****\n",
      " *******\n",
      "*********\n",
      "\n",
      "Diamond:\n",
      "    *\n",
      "   ***\n",
      "  *****\n",
      " *******\n",
      "*********\n",
      " *******\n",
      "  *****\n",
      "   ***\n",
      "    *\n"
     ]
    }
   ],
   "source": [
    "# Function to print a right-angled triangle pattern\n",
    "def print_right_angle_triangle(rows):\n",
    "    for i in range(1, rows + 1):\n",
    "        for j in range(1, i + 1):\n",
    "            print(\"*\", end=\" \")\n",
    "        print()\n",
    "\n",
    "# Function to print an inverted right-angled triangle pattern\n",
    "def print_inverted_right_angle_triangle(rows):\n",
    "    for i in range(rows, 0, -1):\n",
    "        for j in range(1, i + 1):\n",
    "            print(\"*\", end=\" \")\n",
    "        print()\n",
    "\n",
    "# Function to print a pyramid pattern\n",
    "def print_pyramid(rows):\n",
    "    for i in range(1, rows + 1):\n",
    "        print(\" \" * (rows - i) + \"*\" * (2 * i - 1))\n",
    "\n",
    "# Function to print a diamond pattern\n",
    "def print_diamond(rows):\n",
    "    for i in range(1, rows + 1):\n",
    "        print(\" \" * (rows - i) + \"*\" * (2 * i - 1))\n",
    "    for i in range(rows - 1, 0, -1):\n",
    "        print(\" \" * (rows - i) + \"*\" * (2 * i - 1))\n",
    "\n",
    "# Input: Get the number of rows for the patterns\n",
    "rows = int(input(\"Enter the number of rows: \"))\n",
    "\n",
    "print(\"Right-Angled Triangle:\")\n",
    "print_right_angle_triangle(rows)\n",
    "\n",
    "print(\"\\nInverted Right-Angled Triangle:\")\n",
    "print_inverted_right_angle_triangle(rows)\n",
    "\n",
    "print(\"\\nPyramid:\")\n",
    "print_pyramid(rows)\n",
    "\n",
    "print(\"\\nDiamond:\")\n",
    "print_diamond(rows)\n"
   ]
  },
  {
   "cell_type": "markdown",
   "id": "388c60be-c6b2-4321-8b27-c01d0334f6ad",
   "metadata": {},
   "source": [
    "# Prime Number Checker"
   ]
  },
  {
   "cell_type": "code",
   "execution_count": 33,
   "id": "0c0d3e02-2083-48a9-917a-87396aec1a64",
   "metadata": {},
   "outputs": [
    {
     "name": "stdin",
     "output_type": "stream",
     "text": [
      "input:  7\n"
     ]
    },
    {
     "name": "stdout",
     "output_type": "stream",
     "text": [
      "This is a prime number\n"
     ]
    }
   ],
   "source": [
    "num = int(input(\"input: \"))\n",
    "\n",
    "if num > 1:\n",
    "    i = 2\n",
    "    while i < num:\n",
    "        if (num % i) == 0:\n",
    "            print(\"This is not a prime number\")\n",
    "            break\n",
    "        i += 1\n",
    "    else:\n",
    "        print(\"This is a prime number\")\n",
    "\n",
    "else:\n",
    "    print(\"This is not a prime number\")\n"
   ]
  },
  {
   "cell_type": "markdown",
   "id": "02b6a200-b236-4516-8422-ef98f050eaeb",
   "metadata": {},
   "source": [
    "# List Manipulation"
   ]
  },
  {
   "cell_type": "code",
   "execution_count": 34,
   "id": "cd6f14f0-c93c-4fc4-8c18-8572ae86a84b",
   "metadata": {},
   "outputs": [
    {
     "name": "stdout",
     "output_type": "stream",
     "text": [
      "55\n",
      "5.5\n",
      "10\n",
      "1\n"
     ]
    }
   ],
   "source": [
    "list = [1, 2, 3, 4, 5, 6, 7, 8, 9, 10]\n",
    "\n",
    "calc = 0\n",
    "\n",
    "for i in list:\n",
    "    calc = calc + i\n",
    "\n",
    "sum = calc\n",
    "avg = calc / len(list)\n",
    "max_val = max(list)\n",
    "min_val = min(list)\n",
    "\n",
    "print (sum)\n",
    "print (avg)\n",
    "print (max_val)\n",
    "print (min_val)"
   ]
  },
  {
   "cell_type": "markdown",
   "id": "9ab5818e-20e2-433b-b9fe-8d5479c2dcb3",
   "metadata": {},
   "source": [
    "#  Reverse String"
   ]
  },
  {
   "cell_type": "code",
   "execution_count": 35,
   "id": "511d4a6d-71a5-4f33-b124-7b4c368bd4d6",
   "metadata": {},
   "outputs": [
    {
     "name": "stdin",
     "output_type": "stream",
     "text": [
      "Input: Hello\n"
     ]
    },
    {
     "name": "stdout",
     "output_type": "stream",
     "text": [
      "olleH\n"
     ]
    }
   ],
   "source": [
    "string = input(\"Input:\")\n",
    "\n",
    "rev_str = \"\"\n",
    "index = len(string) - 1\n",
    "\n",
    "while index >= 0:\n",
    "    rev_str += string[index]\n",
    "    index -= 1\n",
    "\n",
    "print(rev_str)"
   ]
  },
  {
   "cell_type": "markdown",
   "id": "e6b80c46-bf21-4150-86b3-f4930e1343ef",
   "metadata": {},
   "source": [
    "# Multiplication Table"
   ]
  },
  {
   "cell_type": "code",
   "execution_count": 36,
   "id": "1f5501b6-62af-4ee1-bc77-d212d1bac6ba",
   "metadata": {},
   "outputs": [
    {
     "name": "stdout",
     "output_type": "stream",
     "text": [
      "1 x 1 = 1\n",
      "1 x 2 = 2\n",
      "1 x 3 = 3\n",
      "1 x 4 = 4\n",
      "1 x 5 = 5\n",
      "1 x 6 = 6\n",
      "1 x 7 = 7\n",
      "1 x 8 = 8\n",
      "1 x 9 = 9\n",
      "1 x 10 = 10\n",
      "2 x 1 = 2\n",
      "2 x 2 = 4\n",
      "2 x 3 = 6\n",
      "2 x 4 = 8\n",
      "2 x 5 = 10\n",
      "2 x 6 = 12\n",
      "2 x 7 = 14\n",
      "2 x 8 = 16\n",
      "2 x 9 = 18\n",
      "2 x 10 = 20\n",
      "3 x 1 = 3\n",
      "3 x 2 = 6\n",
      "3 x 3 = 9\n",
      "3 x 4 = 12\n",
      "3 x 5 = 15\n",
      "3 x 6 = 18\n",
      "3 x 7 = 21\n",
      "3 x 8 = 24\n",
      "3 x 9 = 27\n",
      "3 x 10 = 30\n",
      "4 x 1 = 4\n",
      "4 x 2 = 8\n",
      "4 x 3 = 12\n",
      "4 x 4 = 16\n",
      "4 x 5 = 20\n",
      "4 x 6 = 24\n",
      "4 x 7 = 28\n",
      "4 x 8 = 32\n",
      "4 x 9 = 36\n",
      "4 x 10 = 40\n",
      "5 x 1 = 5\n",
      "5 x 2 = 10\n",
      "5 x 3 = 15\n",
      "5 x 4 = 20\n",
      "5 x 5 = 25\n",
      "5 x 6 = 30\n",
      "5 x 7 = 35\n",
      "5 x 8 = 40\n",
      "5 x 9 = 45\n",
      "5 x 10 = 50\n",
      "6 x 1 = 6\n",
      "6 x 2 = 12\n",
      "6 x 3 = 18\n",
      "6 x 4 = 24\n",
      "6 x 5 = 30\n",
      "6 x 6 = 36\n",
      "6 x 7 = 42\n",
      "6 x 8 = 48\n",
      "6 x 9 = 54\n",
      "6 x 10 = 60\n",
      "7 x 1 = 7\n",
      "7 x 2 = 14\n",
      "7 x 3 = 21\n",
      "7 x 4 = 28\n",
      "7 x 5 = 35\n",
      "7 x 6 = 42\n",
      "7 x 7 = 49\n",
      "7 x 8 = 56\n",
      "7 x 9 = 63\n",
      "7 x 10 = 70\n",
      "8 x 1 = 8\n",
      "8 x 2 = 16\n",
      "8 x 3 = 24\n",
      "8 x 4 = 32\n",
      "8 x 5 = 40\n",
      "8 x 6 = 48\n",
      "8 x 7 = 56\n",
      "8 x 8 = 64\n",
      "8 x 9 = 72\n",
      "8 x 10 = 80\n",
      "9 x 1 = 9\n",
      "9 x 2 = 18\n",
      "9 x 3 = 27\n",
      "9 x 4 = 36\n",
      "9 x 5 = 45\n",
      "9 x 6 = 54\n",
      "9 x 7 = 63\n",
      "9 x 8 = 72\n",
      "9 x 9 = 81\n",
      "9 x 10 = 90\n",
      "10 x 1 = 10\n",
      "10 x 2 = 20\n",
      "10 x 3 = 30\n",
      "10 x 4 = 40\n",
      "10 x 5 = 50\n",
      "10 x 6 = 60\n",
      "10 x 7 = 70\n",
      "10 x 8 = 80\n",
      "10 x 9 = 90\n",
      "10 x 10 = 100\n"
     ]
    }
   ],
   "source": [
    "for i in range(1, 11):\n",
    "    for j in range(1, 11):\n",
    "        result = i * j\n",
    "        print(f\"{i} x {j} = {result}\")"
   ]
  },
  {
   "cell_type": "markdown",
   "id": "0616e932-e691-47e5-998f-f75ef1f35220",
   "metadata": {},
   "source": [
    "# Print Patterns"
   ]
  },
  {
   "cell_type": "code",
   "execution_count": 1,
   "id": "df03ccb0-e1f9-4ee7-b332-3b5c664cba03",
   "metadata": {},
   "outputs": [
    {
     "name": "stdin",
     "output_type": "stream",
     "text": [
      "Enter the number of row:  5\n"
     ]
    },
    {
     "name": "stdout",
     "output_type": "stream",
     "text": [
      "* \n",
      "** \n",
      "*** \n",
      "**** \n",
      "***** \n"
     ]
    }
   ],
   "source": [
    "rows = int(input(\"Enter the number of row: \"))\n",
    "\n",
    "for i in range(1, rows + 1):\n",
    "    for j in range(i, i + 1):\n",
    "        print(\"*\" * i, end = ' ')\n",
    "    print()"
   ]
  },
  {
   "cell_type": "markdown",
   "id": "89dbf8fb-c378-4919-b690-388e02638738",
   "metadata": {},
   "source": [
    "# Matrix Multiplication"
   ]
  },
  {
   "cell_type": "code",
   "execution_count": 2,
   "id": "3b0468df-4411-4077-b939-2d880cfda900",
   "metadata": {},
   "outputs": [
    {
     "name": "stdout",
     "output_type": "stream",
     "text": [
      "[19, 22]\n",
      "[43, 50]\n"
     ]
    }
   ],
   "source": [
    "# Two matrices to multiply\n",
    "matrix1 = [[1, 2], [3, 4]]\n",
    "matrix2 = [[5, 6], [7, 8]]\n",
    "\n",
    "# Perform matrix multiplication\n",
    "result_matrix = [[0, 0], [0, 0]]\n",
    "\n",
    "for i in range(len(matrix1)):\n",
    "    for j in range(len(matrix2[0])):\n",
    "        for k in range(len(matrix2)):\n",
    "            result_matrix[i][j] += matrix1[i][k] * matrix2[k][j]\n",
    "\n",
    "# Display the result\n",
    "for row in result_matrix:\n",
    "    print(row)\n"
   ]
  },
  {
   "cell_type": "markdown",
   "id": "38c2bdef-a154-4228-9a8f-502c4e44f8f5",
   "metadata": {},
   "source": [
    "# Chessboard Pattern"
   ]
  },
  {
   "cell_type": "code",
   "execution_count": 3,
   "id": "537cda4a-46ff-46f3-8db4-5ddcba8c17dd",
   "metadata": {},
   "outputs": [
    {
     "name": "stdin",
     "output_type": "stream",
     "text": [
      "Enter the number of row:  5\n"
     ]
    },
    {
     "name": "stdout",
     "output_type": "stream",
     "text": [
      "1 \n",
      "22 \n",
      "333 \n",
      "4444 \n",
      "55555 \n"
     ]
    }
   ],
   "source": [
    "rows = int(input(\"Enter the number of row: \"))\n",
    "\n",
    "for i in range(1, rows + 1):\n",
    "    for j in range(i, i + 1):\n",
    "        print(f\"{j}\" * i, end = ' ')\n",
    "    print()"
   ]
  },
  {
   "cell_type": "markdown",
   "id": "a5a18021-091e-47e5-b173-d4fb99d70f78",
   "metadata": {},
   "source": [
    "# List Problems\n",
    "* Sum\n",
    "* Avg\n",
    "* Min Max\n",
    "* Sorting\n",
    "* Filtering\n",
    "* Reversal\n",
    "* Manipulation\n",
    "* Element Count\n",
    "* List Duplicates Removal\n",
    "* List Comprehension"
   ]
  },
  {
   "cell_type": "code",
   "execution_count": 4,
   "id": "f227e5a8-6565-4665-8da5-1b8e61a01a81",
   "metadata": {},
   "outputs": [],
   "source": [
    "list = [1, 3, 4, 2, 4, 5, 3, 8, 1, 9, 5, 6, 9, 7, 6, 8, 9, 10]"
   ]
  },
  {
   "cell_type": "code",
   "execution_count": 5,
   "id": "736ff3f6-7d7d-45a8-9241-2c15191bdf30",
   "metadata": {},
   "outputs": [
    {
     "name": "stdout",
     "output_type": "stream",
     "text": [
      "sum = 100\n"
     ]
    }
   ],
   "source": [
    "sum = 0\n",
    "for i in list:\n",
    "    sum = sum + i\n",
    "    i += 1\n",
    "print(f\"sum = {sum}\")"
   ]
  },
  {
   "cell_type": "code",
   "execution_count": 6,
   "id": "db224394-472e-4195-be7f-4ce002dd0d12",
   "metadata": {},
   "outputs": [
    {
     "name": "stdout",
     "output_type": "stream",
     "text": [
      "avg = 5.555555555555555\n"
     ]
    }
   ],
   "source": [
    "avg = sum / len(list)\n",
    "print(f\"avg = {avg}\")"
   ]
  },
  {
   "cell_type": "code",
   "execution_count": 7,
   "id": "069f6d1f-1799-4bb8-a242-76af3f6be922",
   "metadata": {},
   "outputs": [
    {
     "name": "stdout",
     "output_type": "stream",
     "text": [
      "max = 10\n",
      "min = 1\n"
     ]
    }
   ],
   "source": [
    "print(f\"max = {max(list)}\")\n",
    "print(f\"min = {min(list)}\")"
   ]
  },
  {
   "cell_type": "code",
   "execution_count": 8,
   "id": "c5e1a582-8e40-4e6b-a27d-7d679f916edd",
   "metadata": {},
   "outputs": [
    {
     "name": "stdout",
     "output_type": "stream",
     "text": [
      "sorting: [1, 1, 2, 3, 3, 4, 4, 5, 5, 6, 6, 7, 8, 8, 9, 9, 9, 10]\n"
     ]
    }
   ],
   "source": [
    "sorted_list = sorted(list)\n",
    "print(f\"sorting: {sorted_list}\")"
   ]
  },
  {
   "cell_type": "code",
   "execution_count": 9,
   "id": "1cf0fb9d-6467-4af7-b638-cd052dd8f0d8",
   "metadata": {},
   "outputs": [
    {
     "name": "stdout",
     "output_type": "stream",
     "text": [
      "[4, 2, 4, 8, 6, 6, 8, 10]\n"
     ]
    }
   ],
   "source": [
    "even_list = []\n",
    "\n",
    "for i in list:\n",
    "    num = i\n",
    "    if num % 2 == 0:\n",
    "        even_list.append(num)\n",
    "print(even_list)"
   ]
  },
  {
   "cell_type": "code",
   "execution_count": 10,
   "id": "ae43c825-0431-43e9-9637-9972e163c147",
   "metadata": {},
   "outputs": [
    {
     "name": "stdout",
     "output_type": "stream",
     "text": [
      "[1, 3, 4, 2, 4, 5, 3, 8, 1, 9, 5, 6, 9, 7, 6, 8, 9, 10]\n",
      "[10, 9, 8, 6, 7, 9, 6, 5, 9, 1, 8, 3, 5, 4, 2, 4, 3, 1]\n"
     ]
    }
   ],
   "source": [
    "resverse_list = []\n",
    "\n",
    "for i in list:\n",
    "    resverse_list.append(i)\n",
    "    \n",
    "print(list)\n",
    "resverse_list = resverse_list[::-1]\n",
    "print(resverse_list)"
   ]
  },
  {
   "cell_type": "code",
   "execution_count": 11,
   "id": "0830eab2-45df-490a-b360-255feb39df45",
   "metadata": {},
   "outputs": [],
   "source": [
    "list_1 = [3, \"a\", 4.7, True, (1, \"c\"), [], {4, 3.14}]\n",
    "list_2 = [8, \"x\", 2.5, False, (), [7, 9.89], {5, \"b\"}]"
   ]
  },
  {
   "cell_type": "code",
   "execution_count": 12,
   "id": "36dd4d7a-9369-4388-9d41-cacd84b7765f",
   "metadata": {},
   "outputs": [
    {
     "name": "stdout",
     "output_type": "stream",
     "text": [
      "[3, 'a', 4.7, True, (1, 'c'), [], {3.14, 4}, 8, 'x', 2.5, False, (), [7, 9.89], {'b', 5}]\n"
     ]
    }
   ],
   "source": [
    "list_3 = list_1 + list_2\n",
    "print(list_3)"
   ]
  },
  {
   "cell_type": "code",
   "execution_count": 13,
   "id": "597d80f0-5401-4acd-b68f-efd321b331b3",
   "metadata": {},
   "outputs": [
    {
     "data": {
      "text/plain": [
       "3"
      ]
     },
     "execution_count": 13,
     "metadata": {},
     "output_type": "execute_result"
    }
   ],
   "source": [
    "list.count(9)"
   ]
  },
  {
   "cell_type": "code",
   "execution_count": 14,
   "id": "a92e68a4-db57-428a-b1b0-6bd78f952c1b",
   "metadata": {},
   "outputs": [
    {
     "name": "stdout",
     "output_type": "stream",
     "text": [
      "[1, 3, 4, 2, 5, 8, 9, 6, 7, 10]\n"
     ]
    }
   ],
   "source": [
    "unique_list = []\n",
    "\n",
    "for item in list:\n",
    "    if item not in unique_list:\n",
    "        unique_list.append(item)\n",
    "\n",
    "print(unique_list)"
   ]
  },
  {
   "cell_type": "code",
   "execution_count": 15,
   "id": "9c8c2cb8-58d5-4f59-8b26-5cf0b5d37ab7",
   "metadata": {},
   "outputs": [
    {
     "name": "stdout",
     "output_type": "stream",
     "text": [
      "[1, 9, 16, 4, 25, 64, 81, 36, 49, 100]\n"
     ]
    }
   ],
   "source": [
    "new_list = [item ** 2 for item in unique_list]\n",
    "print(new_list)"
   ]
  },
  {
   "cell_type": "markdown",
   "id": "ef011f74-efb7-4179-a98c-ac82bf6ea99a",
   "metadata": {},
   "source": [
    "# Nested List Problems"
   ]
  },
  {
   "cell_type": "code",
   "execution_count": 16,
   "id": "295b1c0a-6b39-4942-8912-36f7265e2092",
   "metadata": {},
   "outputs": [
    {
     "name": "stdout",
     "output_type": "stream",
     "text": [
      "[10, 10, 10]\n",
      "[10, 10, 10]\n",
      "[10, 10, 10]\n"
     ]
    }
   ],
   "source": [
    "matrix1 = [[1, 2, 3], [4, 5, 6], [7, 8, 9]]\n",
    "matrix2 = [[9, 8, 7], [6, 5, 4], [3, 2, 1]]\n",
    "\n",
    "if len(matrix1) == len(matrix2) and len(matrix1[0]) == len(matrix2[0]):\n",
    "    result_matrix = [[matrix1[i][j] + matrix2[i][j] for j in range(len(matrix1[0]))] for i in range(len(matrix1))]\n",
    "    for row in result_matrix:\n",
    "        print(row)\n",
    "else:\n",
    "    print(\"Matrices cannot be added due to incompatible dimensions.\")\n"
   ]
  },
  {
   "cell_type": "code",
   "execution_count": 17,
   "id": "a77b8e4b-e0bf-45bd-b43e-8729cac86cf2",
   "metadata": {},
   "outputs": [
    {
     "name": "stdout",
     "output_type": "stream",
     "text": [
      "[1, 2, 3, 4, 5, 6, 7]\n"
     ]
    }
   ],
   "source": [
    "my_list = [[1], [2, 3], [4, 5, 6, 7]]\n",
    "\n",
    "flat_list = [num for sublist in my_list for num in sublist]\n",
    "print(flat_list)"
   ]
  },
  {
   "cell_type": "code",
   "execution_count": 18,
   "id": "391093f4-d68f-4cc6-a3e3-d8987c65cae9",
   "metadata": {},
   "outputs": [
    {
     "name": "stdout",
     "output_type": "stream",
     "text": [
      "Element 1: 1 times\n",
      "Element 2: 2 times\n",
      "Element 3: 2 times\n",
      "Element 4: 2 times\n",
      "Element 5: 1 times\n",
      "Element 6: 2 times\n"
     ]
    }
   ],
   "source": [
    "nested_list = [[1, 2, 3], [2, 3, 4, 4], [5, 6, 6]]\n",
    "\n",
    "flat_list = [element for sublist in nested_list for element in sublist]\n",
    "\n",
    "element_frequency = {}\n",
    "for element in flat_list:\n",
    "    if element in element_frequency:\n",
    "        element_frequency[element] += 1\n",
    "    else:\n",
    "        element_frequency[element] = 1\n",
    "\n",
    "for element, frequency in element_frequency.items():\n",
    "    print(f\"Element {element}: {frequency} times\")\n"
   ]
  },
  {
   "cell_type": "code",
   "execution_count": 19,
   "id": "7a90dfb1-0da8-4183-a643-82c4ce9d07dd",
   "metadata": {},
   "outputs": [
    {
     "name": "stdout",
     "output_type": "stream",
     "text": [
      "[12, 4, 3]\n",
      "[7, 5, 8]\n"
     ]
    }
   ],
   "source": [
    "X = [[12,7], [4 ,5], [3 ,8]]\n",
    "result = [[0,0,0], [0,0,0]]\n",
    "\n",
    "for i in range(len(X)):\n",
    "   for j in range(len(X[0])):\n",
    "       result[j][i] = X[i][j]\n",
    "\n",
    "for r in result:\n",
    "   print(r)\n"
   ]
  },
  {
   "cell_type": "code",
   "execution_count": 20,
   "id": "c38d74b0-3384-4b2e-b357-536cc456d4d6",
   "metadata": {},
   "outputs": [
    {
     "name": "stdout",
     "output_type": "stream",
     "text": [
      "[1, 2, 3, 4, 5, 6, 7, 8]\n"
     ]
    }
   ],
   "source": [
    "nested_list = [[1, 2, 3], [4, 5], [6, 7, 8]]\n",
    "\n",
    "flat_list = [element for sublist in nested_list for element in sublist]\n",
    "\n",
    "print(flat_list)\n"
   ]
  },
  {
   "cell_type": "markdown",
   "id": "36b2823a-8fdb-4e19-b3b6-c47d88194749",
   "metadata": {},
   "source": [
    "# Tuple Problems:"
   ]
  },
  {
   "cell_type": "code",
   "execution_count": 16,
   "id": "c990ec14-ca13-40a5-8a36-34e20ecf05c4",
   "metadata": {},
   "outputs": [
    {
     "name": "stdout",
     "output_type": "stream",
     "text": [
      "(3, 5.6, True, 'asad', {'x'}, 4, 9.89, [False], (), 'sohun')\n"
     ]
    }
   ],
   "source": [
    "tuple_1 = (3, 5.6, True, \"asad\", {'x'})\n",
    "tuple_2 = (4, 9.89, [False], (), \"sohun\")\n",
    "tuple_3 = tuple_1 + tuple_2\n",
    "\n",
    "print(tuple_3)"
   ]
  },
  {
   "cell_type": "code",
   "execution_count": 17,
   "id": "48424df9-aef8-455e-a6e7-3d667903e778",
   "metadata": {},
   "outputs": [
    {
     "name": "stdout",
     "output_type": "stream",
     "text": [
      "('x', 'y', 'z')\n"
     ]
    }
   ],
   "source": [
    "var = ('x', 'y', 'z')\n",
    "(a, b, c) = var\n",
    "print(var)"
   ]
  },
  {
   "cell_type": "code",
   "execution_count": 18,
   "id": "b1d31bb5-a30c-4ccb-a228-29d74f29d32b",
   "metadata": {},
   "outputs": [
    {
     "name": "stdout",
     "output_type": "stream",
     "text": [
      "[1, 2, 3, 4, 5, 6, 7, 8, 9, 10]\n"
     ]
    }
   ],
   "source": [
    "tuple = (2, 8, 10, 3, 5, 9, 4, 1, 7, 6)\n",
    "tuple_sorted = sorted(tuple)\n",
    "print(tuple_sorted)"
   ]
  },
  {
   "cell_type": "code",
   "execution_count": 19,
   "id": "0cb20478-4038-45d8-b066-f7f2aefc784e",
   "metadata": {},
   "outputs": [
    {
     "name": "stdout",
     "output_type": "stream",
     "text": [
      "8\n"
     ]
    }
   ],
   "source": [
    "given_tuple = (2, 4, 5, 3, 5, 1, 2, 1, 3, 4, 4, 2, 4, 5, 3, 5, 1, 1, 2, 4, 5, 1, 4, 3, 3, 5, 5, 5, 2, 2, 1, 1, 3, 4)\n",
    "element_to_count = 5\n",
    "\n",
    "frequency = given_tuple.count(element_to_count)\n",
    "print(frequency)"
   ]
  },
  {
   "cell_type": "code",
   "execution_count": 20,
   "id": "f69084e2-cfb0-44c9-be3d-bce4cbabe2c2",
   "metadata": {},
   "outputs": [
    {
     "name": "stdout",
     "output_type": "stream",
     "text": [
      "Original tuple: (1, 2, 3, 4, 5)\n",
      "Reversed tuple: (5, 4, 3, 2, 1)\n"
     ]
    }
   ],
   "source": [
    "def reverse_tuple(input_tuple):\n",
    "    reversed_tuple = ()\n",
    "    for item in input_tuple[::-1]:\n",
    "        reversed_tuple += (item,)\n",
    "    return reversed_tuple\n",
    "\n",
    "sample_tuple = (1, 2, 3, 4, 5)\n",
    "\n",
    "reversed_sample_tuple = reverse_tuple(sample_tuple)\n",
    "\n",
    "print(\"Original tuple:\", sample_tuple)\n",
    "print(\"Reversed tuple:\", reversed_sample_tuple)\n"
   ]
  },
  {
   "cell_type": "code",
   "execution_count": 21,
   "id": "02818dd9-2c5e-42f3-bc3e-52d272b80e16",
   "metadata": {},
   "outputs": [
    {
     "name": "stdout",
     "output_type": "stream",
     "text": [
      "Original Tuple: (1, 2, 3, 4, 5, 6, 7, 8, 9, 10)\n",
      "Sliced Tuple: (3, 4, 5, 6, 7)\n"
     ]
    }
   ],
   "source": [
    "my_tuple = (1, 2, 3, 4, 5, 6, 7, 8, 9, 10)\n",
    "\n",
    "start_index = 2\n",
    "end_index = 7\n",
    "\n",
    "sliced_tuple = my_tuple[start_index:end_index]\n",
    "\n",
    "print(\"Original Tuple:\", my_tuple)\n",
    "print(\"Sliced Tuple:\", sliced_tuple)"
   ]
  },
  {
   "cell_type": "code",
   "execution_count": 22,
   "id": "83dedaf1-7037-4385-99e1-5b88796a4cf3",
   "metadata": {},
   "outputs": [
    {
     "name": "stdout",
     "output_type": "stream",
     "text": [
      "[1, 2, 3, 4, 5, 6, 7, 8, 9, 10]\n"
     ]
    }
   ],
   "source": [
    "print(list(my_tuple))"
   ]
  },
  {
   "cell_type": "code",
   "execution_count": 1,
   "id": "7c3b11f0-e5d1-45e0-9174-db42356d1f12",
   "metadata": {},
   "outputs": [
    {
     "name": "stdout",
     "output_type": "stream",
     "text": [
      "(10, 10, 10, 10, 10, 10, 10, 10, 10)\n",
      "(-8, -6, -4, -2, 0, 2, 4, 6, 8)\n",
      "(9, 16, 21, 24, 25, 24, 21, 16, 9)\n"
     ]
    }
   ],
   "source": [
    "tuple1 = (1, 2, 3, 4, 5, 6, 7, 8, 9)\n",
    "tuple2 = (9, 8, 7, 6, 5, 4, 3, 2, 1)\n",
    "\n",
    "add_tuple = tuple(x + y for x, y in zip(tuple1, tuple2))\n",
    "sub_tuple = tuple(x - y for x, y in zip(tuple1, tuple2))\n",
    "mul_tuple = tuple(x * y for x, y in zip(tuple1, tuple2))\n",
    "\n",
    "print(add_tuple)\n",
    "print(sub_tuple)\n",
    "print(mul_tuple)"
   ]
  },
  {
   "cell_type": "code",
   "execution_count": 26,
   "id": "f98c039b-848f-4c8b-86fe-cbc1cb5f45e2",
   "metadata": {},
   "outputs": [
    {
     "name": "stdout",
     "output_type": "stream",
     "text": [
      "(9.89, 138, 'my nane', True, ([5, 3], {3.14, 'pie'}))\n"
     ]
    }
   ],
   "source": [
    "var1 = 9.89\n",
    "var2 = 138\n",
    "var3 = \"my nane\"\n",
    "var4 = True\n",
    "var5 = ([5, 3], {\"pie\", 3.14})\n",
    "\n",
    "packing_to_tuple = (var1, var2, var3, var4, var5)\n",
    "print(packing_to_tuple)"
   ]
  },
  {
   "cell_type": "markdown",
   "id": "1e560152-c2e2-4f27-a21f-f71291708dab",
   "metadata": {},
   "source": [
    "# Set Problems"
   ]
  },
  {
   "cell_type": "code",
   "execution_count": 27,
   "id": "c328f141-7c92-4735-8826-2e7d5c328fdf",
   "metadata": {},
   "outputs": [],
   "source": [
    "set1 = {2, 2, 5, 5, 9, 4, 6, 3}\n",
    "set2 = {2, 4, 1, 8, 1, 2, 7, 3}"
   ]
  },
  {
   "cell_type": "code",
   "execution_count": 28,
   "id": "33e82fdd-1fbe-4a23-a106-dfbfa4318bd4",
   "metadata": {},
   "outputs": [
    {
     "data": {
      "text/plain": [
       "{2, 3, 4}"
      ]
     },
     "execution_count": 28,
     "metadata": {},
     "output_type": "execute_result"
    }
   ],
   "source": [
    "set1.intersection(set2)"
   ]
  },
  {
   "cell_type": "code",
   "execution_count": 29,
   "id": "39bb59a8-0461-4249-afcb-318445dbbdda",
   "metadata": {},
   "outputs": [
    {
     "data": {
      "text/plain": [
       "{1, 2, 3, 4, 5, 6, 7, 8, 9}"
      ]
     },
     "execution_count": 29,
     "metadata": {},
     "output_type": "execute_result"
    }
   ],
   "source": [
    "set1.union(set2)"
   ]
  },
  {
   "cell_type": "code",
   "execution_count": 30,
   "id": "55819ecf-6c13-446f-bd26-0e0bf3a3ba20",
   "metadata": {},
   "outputs": [
    {
     "data": {
      "text/plain": [
       "{5, 6, 9}"
      ]
     },
     "execution_count": 30,
     "metadata": {},
     "output_type": "execute_result"
    }
   ],
   "source": [
    "set1.difference(set2)"
   ]
  },
  {
   "cell_type": "code",
   "execution_count": 31,
   "id": "8eb3275b-577f-4fd4-a8d5-4a8ccb65154f",
   "metadata": {},
   "outputs": [
    {
     "data": {
      "text/plain": [
       "{1, 5, 6, 7, 8, 9}"
      ]
     },
     "execution_count": 31,
     "metadata": {},
     "output_type": "execute_result"
    }
   ],
   "source": [
    "set2.symmetric_difference(set1)"
   ]
  },
  {
   "cell_type": "code",
   "execution_count": 32,
   "id": "11fb2bfc-3672-4349-94c4-7db5941f66fb",
   "metadata": {},
   "outputs": [
    {
     "name": "stdout",
     "output_type": "stream",
     "text": [
      "{10, 4, 12}\n",
      "{1, 2, 4, 5, 7, 8, 9, 10, 11, 12, 13, 14, 15}\n",
      "{5, 7, 9, 11, 14}\n"
     ]
    }
   ],
   "source": [
    "A = {1, 3, 4, 6, 8, 10, 12, 13, 15}\n",
    "B = {2, 4, 5, 7, 9, 10, 11, 12, 14}\n",
    "C = {1, 5, 7, 8, 9, 11, 13, 14, 15}\n",
    "\n",
    "print(A.intersection(B))\n",
    "print(B.union(C))\n",
    "print(C.difference(A))"
   ]
  },
  {
   "cell_type": "code",
   "execution_count": 33,
   "id": "0c245394-7705-4c1b-820e-0a46ecb3fc1a",
   "metadata": {},
   "outputs": [
    {
     "name": "stdout",
     "output_type": "stream",
     "text": [
      "Set A is not a subset of set B\n"
     ]
    }
   ],
   "source": [
    "A = {1, 3, 4, 6, 8, 10, 12, 13, 15}\n",
    "B = {2, 4, 5, 7, 9, 10, 11, 12, 14}\n",
    "\n",
    "result = A.issubset(B)\n",
    "\n",
    "if result:\n",
    "    print(\"Set A is a subset of set B\")\n",
    "else:\n",
    "    print(\"Set A is not a subset of set B\")\n",
    "\n",
    "# Alternatively, you can use the <= operator\n",
    "# result = A <= B"
   ]
  },
  {
   "cell_type": "code",
   "execution_count": 34,
   "id": "6576f883-a892-4930-bfe9-790c543a210e",
   "metadata": {},
   "outputs": [
    {
     "name": "stdout",
     "output_type": "stream",
     "text": [
      "Set A is not a superset of set B\n"
     ]
    }
   ],
   "source": [
    "A = {1, 3, 4, 6, 8, 10, 12, 13, 15}\n",
    "B = {2, 4, 5, 7, 9, 10, 11, 12, 14}\n",
    "\n",
    "result = A.issuperset(B)\n",
    "\n",
    "if result:\n",
    "    print(\"Set A is a superset of set B\")\n",
    "else:\n",
    "    print(\"Set A is not a superset of set B\")\n",
    "\n",
    "# Alternatively, you can use the >= operator\n",
    "# result = A >= B"
   ]
  },
  {
   "cell_type": "code",
   "execution_count": 35,
   "id": "a63b28a0-5df0-41ae-ab82-14b1bed45bc0",
   "metadata": {},
   "outputs": [
    {
     "name": "stdout",
     "output_type": "stream",
     "text": [
      "6\n",
      "6\n",
      "9\n",
      "9\n",
      "9\n"
     ]
    }
   ],
   "source": [
    "print(len(set1))\n",
    "print(len(set2))\n",
    "print(len(A))\n",
    "print(len(B))\n",
    "print(len(C))"
   ]
  },
  {
   "cell_type": "code",
   "execution_count": 36,
   "id": "98a158be-a61c-4750-88a0-82ce2b56f696",
   "metadata": {},
   "outputs": [
    {
     "name": "stdin",
     "output_type": "stream",
     "text": [
      "value: 6\n"
     ]
    },
    {
     "name": "stdout",
     "output_type": "stream",
     "text": [
      "Found\n"
     ]
    }
   ],
   "source": [
    "input_val = int(input(\"value:\"))\n",
    "\n",
    "if input_val in A: \n",
    "    print(\"Found\")\n",
    "\n",
    "else:\n",
    "    print(\"Error 404\")\n",
    "    "
   ]
  },
  {
   "cell_type": "markdown",
   "id": "a9c94358-6a85-4b5a-ae00-b226a7046a7d",
   "metadata": {},
   "source": [
    "# Dictionary Problems"
   ]
  },
  {
   "cell_type": "code",
   "execution_count": 4,
   "id": "4faefe6a-0f68-404e-8bda-8d0c16488967",
   "metadata": {},
   "outputs": [
    {
     "name": "stdin",
     "output_type": "stream",
     "text": [
      "Enter the student's name:  Sohun\n",
      "Enter the new score:  90\n"
     ]
    },
    {
     "name": "stdout",
     "output_type": "stream",
     "text": [
      "Updated Student Scores:\n",
      "Fabian: 90\n",
      "Mim: 85\n",
      "Laura: 78\n",
      "Shegufta: 92\n",
      "Charlie: 82\n",
      "Sadia: 86\n",
      "Asad: 90\n",
      "Sohun: 90\n"
     ]
    }
   ],
   "source": [
    "student_scores = {\n",
    "    \"Fabian\": 90,\n",
    "    \"Mim\": 85,\n",
    "    \"Laura\": 78,\n",
    "    \"Shegufta\": 92,\n",
    "    \"Charlie\": 82,\n",
    "    \"Sadia\": 86,\n",
    "    \"Asad\": 90,\n",
    "}\n",
    "\n",
    "student_name = input(\"Enter the student's name: \")\n",
    "new_score = int(input(\"Enter the new score: \"))\n",
    "\n",
    "student_scores[student_name] = new_score\n",
    "\n",
    "print(\"Updated Student Scores:\")\n",
    "for student, score in student_scores.items():\n",
    "    print(f\"{student}: {score}\")\n"
   ]
  },
  {
   "cell_type": "code",
   "execution_count": 5,
   "id": "19c44556-0ad5-4885-9351-c930b4ee9f03",
   "metadata": {},
   "outputs": [
    {
     "name": "stdout",
     "output_type": "stream",
     "text": [
      "key: Fabian\n",
      "value: 90\n",
      "-----------------\n",
      "key: Mim\n",
      "value: 85\n",
      "-----------------\n",
      "key: Laura\n",
      "value: 78\n",
      "-----------------\n",
      "key: Shegufta\n",
      "value: 92\n",
      "-----------------\n",
      "key: Charlie\n",
      "value: 82\n",
      "-----------------\n",
      "key: Sadia\n",
      "value: 86\n",
      "-----------------\n",
      "key: Asad\n",
      "value: 90\n",
      "-----------------\n",
      "key: Sohun\n",
      "value: 90\n",
      "-----------------\n"
     ]
    }
   ],
   "source": [
    "for key, value in student_scores.items():\n",
    "    print(\"key:\", key)\n",
    "    print(\"value:\", value)\n",
    "    print(\"-----------------\")"
   ]
  },
  {
   "cell_type": "code",
   "execution_count": 6,
   "id": "010ea0f7-ff02-4361-be9c-e3a4ef1ff654",
   "metadata": {},
   "outputs": [
    {
     "name": "stdout",
     "output_type": "stream",
     "text": [
      "length: 8\n"
     ]
    }
   ],
   "source": [
    "print(\"length:\", len(student_scores))"
   ]
  },
  {
   "cell_type": "code",
   "execution_count": 8,
   "id": "8281bbff-a555-4ea8-b53b-cff1204a302e",
   "metadata": {},
   "outputs": [
    {
     "name": "stdin",
     "output_type": "stream",
     "text": [
      "Price: 4.49\n"
     ]
    },
    {
     "name": "stdout",
     "output_type": "stream",
     "text": [
      "Item found: ice cream: $4.49\n"
     ]
    }
   ],
   "source": [
    "food_items = {\n",
    "    \"pizza\": 12.99,\n",
    "    \"burger\": 7.49,\n",
    "    \"fries\": 3.99,\n",
    "    \"salad\": 6.99,\n",
    "    \"soda\": 1.99,\n",
    "    \"spaghetti\": 10.99,\n",
    "    \"sandwich\": 8.99,\n",
    "    \"chicken wings\": 9.99,\n",
    "    \"tacos\": 7.99,\n",
    "    \"ice cream\": 4.49,\n",
    "    \"steak\": 15.99,\n",
    "    \"pancakes\": 5.99,\n",
    "    \"sushi\": 14.99,\n",
    "    \"hot dog\": 2.49,\n",
    "    \"shrimp scampi\": 11.99,\n",
    "    \"mac and cheese\": 6.49,\n",
    "    \"chicken tenders\": 7.99,\n",
    "    \"nachos\": 8.49,\n",
    "    \"lobster\": 19.99,\n",
    "    \"milkshake\": 3.49,\n",
    "}\n",
    "\n",
    "searched_price =  float(input(\"Price:\"))\n",
    "\n",
    "found = False\n",
    "\n",
    "for key, value in food_items.items():\n",
    "\n",
    "    if searched_price == value:\n",
    "        print(f\"Item found: {key}: ${value}\")\n",
    "        found = True\n",
    "        break\n",
    "if not found:\n",
    "    print(\"Not found\")\n",
    "        \n",
    "    \n"
   ]
  },
  {
   "cell_type": "code",
   "execution_count": 9,
   "id": "68db2f8c-d5df-4c1b-bc02-8ed48bcda299",
   "metadata": {},
   "outputs": [
    {
     "name": "stdout",
     "output_type": "stream",
     "text": [
      "{'country1': 'USA', 'country2': 'Canada', 'country3': 'United Kingdom', 'country4': 'France', 'country5': 'Germany', 'country6': 'Italy', 'country7': 'Spain', 'country8': 'Australia', 'country9': 'Netherlands', 'country10': 'Sweden'}\n"
     ]
    }
   ],
   "source": [
    "countries1 = {\n",
    "    \"country1\": \"USA\",\n",
    "    \"country2\": \"Canada\",\n",
    "    \"country3\": \"United Kingdom\",\n",
    "    \"country4\": \"France\",\n",
    "    \"country5\": \"Germany\",\n",
    "}\n",
    "\n",
    "# Dictionary 2: More Names of Western Countries\n",
    "countries2 = {\n",
    "    \"country6\": \"Italy\",\n",
    "    \"country7\": \"Spain\",\n",
    "    \"country8\": \"Australia\",\n",
    "    \"country9\": \"Netherlands\",\n",
    "    \"country10\": \"Sweden\",\n",
    "}\n",
    "\n",
    "\n",
    "merged_countries = countries1.copy()\n",
    "merged_countries.update(countries2)\n",
    "\n",
    "print(merged_countries)"
   ]
  },
  {
   "cell_type": "code",
   "execution_count": 10,
   "id": "5c12042a-5c19-427f-8938-faaf45673ec3",
   "metadata": {},
   "outputs": [
    {
     "name": "stdin",
     "output_type": "stream",
     "text": [
      "to delete:  fries\n"
     ]
    },
    {
     "name": "stdout",
     "output_type": "stream",
     "text": [
      "fries has been removed from the dictionary.\n",
      "Updated dictionary of items: {'pizza': 12.99, 'burger': 7.49, 'salad': 6.99, 'soda': 1.99, 'spaghetti': 10.99, 'sandwich': 8.99, 'chicken wings': 9.99, 'tacos': 7.99, 'ice cream': 4.49, 'steak': 15.99, 'pancakes': 5.99, 'sushi': 14.99, 'hot dog': 2.49, 'shrimp scampi': 11.99, 'mac and cheese': 6.49, 'chicken tenders': 7.99, 'nachos': 8.49, 'lobster': 19.99, 'milkshake': 3.49}\n"
     ]
    }
   ],
   "source": [
    "deleted_items = input(\"to delete: \")\n",
    "\n",
    "if deleted_items in food_items:\n",
    "    \n",
    "    del food_items[deleted_items]\n",
    "    print(f\"{deleted_items} has been removed from the dictionary.\")\n",
    "    \n",
    "else:\n",
    "    \n",
    "    print(f\"{deleted_items} was not found in the dictionary.\")\n",
    "\n",
    "print(\"Updated dictionary of items:\", food_items)  \n",
    "    "
   ]
  },
  {
   "cell_type": "code",
   "execution_count": 11,
   "id": "0add05c4-16d3-4349-8dd8-f1e99acecf14",
   "metadata": {},
   "outputs": [
    {
     "name": "stdout",
     "output_type": "stream",
     "text": [
      "Sorted dictionary based on age (ascending):\n",
      "Charlie: 20\n",
      "Alice: 25\n",
      "Eve: 28\n",
      "Bob: 30\n",
      "David: 35\n"
     ]
    }
   ],
   "source": [
    "ages = {\n",
    "    \"Alice\": 25,\n",
    "    \"Bob\": 30,\n",
    "    \"Charlie\": 20,\n",
    "    \"David\": 35,\n",
    "    \"Eve\": 28,\n",
    "}\n",
    "\n",
    "sorted_ages = dict(sorted(ages.items(), key=lambda item: item[1]))\n",
    "\n",
    "print(\"Sorted dictionary based on age (ascending):\")\n",
    "for name, age in sorted_ages.items():\n",
    "    print(f\"{name}: {age}\")\n"
   ]
  },
  {
   "cell_type": "code",
   "execution_count": 12,
   "id": "34b38a1e-6cbf-41ce-a54b-a18d7d142d50",
   "metadata": {},
   "outputs": [
    {
     "name": "stdin",
     "output_type": "stream",
     "text": [
      "Enter a string:  asad\n"
     ]
    },
    {
     "name": "stdout",
     "output_type": "stream",
     "text": [
      "Character frequencies:\n",
      "a: 2\n",
      "s: 1\n",
      "d: 1\n"
     ]
    }
   ],
   "source": [
    "input_string = input(\"Enter a string: \")\n",
    "\n",
    "char_frequency = {}\n",
    "\n",
    "for char in input_string:\n",
    "    \n",
    "    if char in char_frequency:\n",
    "        char_frequency[char] += 1\n",
    "        \n",
    "    else:\n",
    "        char_frequency[char] = 1\n",
    "\n",
    "print(\"Character frequencies:\")\n",
    "\n",
    "for char, frequency in char_frequency.items():\n",
    "    print(f\"{char}: {frequency}\")\n"
   ]
  },
  {
   "cell_type": "code",
   "execution_count": 13,
   "id": "9b91e10b-b5ee-464d-bd49-355e6ec3f22b",
   "metadata": {},
   "outputs": [
    {
     "name": "stdin",
     "output_type": "stream",
     "text": [
      "Enter the key to check:  date\n"
     ]
    },
    {
     "name": "stdout",
     "output_type": "stream",
     "text": [
      "Key Found\n"
     ]
    }
   ],
   "source": [
    "my_dict = {\n",
    "    \"apple\": 3,\n",
    "    \"banana\": 5,\n",
    "    \"cherry\": 2,\n",
    "    \"date\": 1,\n",
    "}\n",
    "\n",
    "key_to_check = input(\"Enter the key to check: \")\n",
    "\n",
    "if key_to_check in my_dict:\n",
    "    print(\"Key Found\")\n",
    "else:\n",
    "    print(\"Key Not Found\")\n"
   ]
  },
  {
   "cell_type": "code",
   "execution_count": 14,
   "id": "65378285-08c9-4f9d-96b0-9f4795cf00b7",
   "metadata": {},
   "outputs": [
    {
     "name": "stdout",
     "output_type": "stream",
     "text": [
      "Student Name: Asad\n",
      "Student Age: 18\n",
      "Student Address: 123 Main St\n"
     ]
    }
   ],
   "source": [
    "student_details = {\n",
    "    \"student1\": {\n",
    "        \"name\": \"Asad\",\n",
    "        \"age\": 18,\n",
    "        \"address\": \"123 Main St\",\n",
    "    },\n",
    "    \"student2\": {\n",
    "        \"name\": \"Zaman\",\n",
    "        \"age\": 19,\n",
    "        \"address\": \"456 Elm St\",\n",
    "    },\n",
    "    \"student3\": {\n",
    "        \"name\": \"Sohun\",\n",
    "        \"age\": 17,\n",
    "        \"address\": \"789 Oak St\",\n",
    "    },\n",
    "}\n",
    "\n",
    "student_name = student_details[\"student1\"][\"name\"]\n",
    "student_age = student_details[\"student1\"][\"age\"]\n",
    "student_address = student_details[\"student1\"][\"address\"]\n",
    "\n",
    "print(f\"Student Name: {student_name}\")\n",
    "print(f\"Student Age: {student_age}\")\n",
    "print(f\"Student Address: {student_address}\")\n"
   ]
  },
  {
   "cell_type": "code",
   "execution_count": 15,
   "id": "0f6f8a26-bf06-4144-b0e1-c08833f93660",
   "metadata": {},
   "outputs": [
    {
     "name": "stdout",
     "output_type": "stream",
     "text": [
      "Total number of key-value pairs in the nested dictionary: 9\n"
     ]
    }
   ],
   "source": [
    "nested_dict = {\n",
    "    \"person1\": {\n",
    "        \"name\": \"John\",\n",
    "        \"age\": 30,\n",
    "        \"city\": \"New York\",\n",
    "    },\n",
    "    \"person2\": {\n",
    "        \"name\": \"Alice\",\n",
    "        \"age\": 25,\n",
    "        \"city\": \"Los Angeles\",\n",
    "    },\n",
    "    \"person3\": {\n",
    "        \"name\": \"Bob\",\n",
    "        \"age\": 28,\n",
    "        \"city\": \"Chicago\",\n",
    "    },\n",
    "}\n",
    "\n",
    "total_pairs = sum(len(inner_dict) for inner_dict in nested_dict.values())\n",
    "\n",
    "print(f\"Total number of key-value pairs in the nested dictionary: {total_pairs}\")\n"
   ]
  },
  {
   "cell_type": "code",
   "execution_count": 17,
   "id": "be651c36-dfbf-4c8a-985d-f55a93b362cb",
   "metadata": {},
   "outputs": [
    {
     "name": "stdin",
     "output_type": "stream",
     "text": [
      "Enter the employee ID to update salary:  105\n",
      "Enter the new salary:  55000\n"
     ]
    },
    {
     "name": "stdout",
     "output_type": "stream",
     "text": [
      "Updated salary for employee 105 to 55000.0\n",
      "Updated employee details:\n",
      "Employee ID: 101, Name: Asad, Salary: 50000\n",
      "Employee ID: 102, Name: Zaman, Salary: 60000\n",
      "Employee ID: 103, Name: Sohun, Salary: 55000\n",
      "Employee ID: 104, Name: Fabian, Salary: 48000\n",
      "Employee ID: 105, Name: Dina, Salary: 55000.0\n",
      "Employee ID: 106, Name: Sumaiya, Salary: 53000\n",
      "Employee ID: 107, Name: CLark, Salary: 55000\n",
      "Employee ID: 108, Name: Sanjida, Salary: 59000\n",
      "Employee ID: 109, Name: Sabah, Salary: 61000\n",
      "Employee ID: 110, Name: Selen, Salary: 62000\n"
     ]
    }
   ],
   "source": [
    "employee_details = {\n",
    "    101: {\"name\": \"Asad\", \"salary\": 50000},\n",
    "    102: {\"name\": \"Zaman\", \"salary\": 60000},\n",
    "    103: {\"name\": \"Sohun\", \"salary\": 55000},\n",
    "    104: {\"name\": \"Fabian\", \"salary\": 48000},\n",
    "    105: {\"name\": \"Dina\", \"salary\": 52000},\n",
    "    106: {\"name\": \"Sumaiya\", \"salary\": 53000},\n",
    "    107: {\"name\": \"CLark\", \"salary\": 55000},\n",
    "    108: {\"name\": \"Sanjida\", \"salary\": 59000},\n",
    "    109: {\"name\": \"Sabah\", \"salary\": 61000},\n",
    "    110: {\"name\": \"Selen\", \"salary\": 62000},\n",
    "}\n",
    "\n",
    "employee_id = int(input(\"Enter the employee ID to update salary: \"))\n",
    "new_salary = float(input(\"Enter the new salary: \"))\n",
    "\n",
    "if employee_id in employee_details:\n",
    "    employee_details[employee_id][\"salary\"] = new_salary\n",
    "    print(f\"Updated salary for employee {employee_id} to {new_salary}\")\n",
    "else:\n",
    "    print(f\"Employee not found\")\n",
    "\n",
    "print(\"Updated employee details:\")\n",
    "for emp_id, emp_info in employee_details.items():\n",
    "    print(f\"Employee ID: {emp_id}, Name: {emp_info['name']}, Salary: {emp_info['salary']}\")\n"
   ]
  },
  {
   "cell_type": "code",
   "execution_count": 18,
   "id": "961049c2-25b0-44d4-9390-b87c63a34958",
   "metadata": {},
   "outputs": [
    {
     "name": "stdout",
     "output_type": "stream",
     "text": [
      "Products sorted by price (ascending):\n",
      "Product ID: product4\n",
      "Name: Monitor\n",
      "Price: 200.0\n",
      "Quantity: 15\n",
      "\n",
      "Product ID: product3\n",
      "Name: Tablet\n",
      "Price: 300.0\n",
      "Quantity: 8\n",
      "\n",
      "Product ID: product2\n",
      "Name: Smartphone\n",
      "Price: 400.0\n",
      "Quantity: 10\n",
      "\n",
      "Product ID: product1\n",
      "Name: Laptop\n",
      "Price: 800.0\n",
      "Quantity: 5\n",
      "\n"
     ]
    }
   ],
   "source": [
    "product_details = {\n",
    "    \"product1\": {\"name\": \"Laptop\", \"price\": 800.0, \"quantity\": 5},\n",
    "    \"product2\": {\"name\": \"Smartphone\", \"price\": 400.0, \"quantity\": 10},\n",
    "    \"product3\": {\"name\": \"Tablet\", \"price\": 300.0, \"quantity\": 8},\n",
    "    \"product4\": {\"name\": \"Monitor\", \"price\": 200.0, \"quantity\": 15},\n",
    "}\n",
    "\n",
    "sorted_products = dict(sorted(product_details.items(), key=lambda item: item[1][\"price\"]))\n",
    "\n",
    "print(\"Products sorted by price (ascending):\")\n",
    "for product_id, product_info in sorted_products.items():\n",
    "    print(f\"Product ID: {product_id}\")\n",
    "    print(f\"Name: {product_info['name']}\")\n",
    "    print(f\"Price: {product_info['price']}\")\n",
    "    print(f\"Quantity: {product_info['quantity']}\")\n",
    "    print()\n"
   ]
  },
  {
   "cell_type": "code",
   "execution_count": 20,
   "id": "1cf2f92f-e448-402f-b220-df6686ed3afb",
   "metadata": {},
   "outputs": [
    {
     "name": "stdin",
     "output_type": "stream",
     "text": [
      "Enter the person (person1 to person10) to retrieve their details:  person5\n"
     ]
    },
    {
     "name": "stdout",
     "output_type": "stream",
     "text": [
      "Details of person5:\n",
      "name: Sumaiya\n",
      "age: 22\n",
      "city: Seattle\n"
     ]
    }
   ],
   "source": [
    "persons = {\n",
    "    \"person1\": {\"name\": \"Zaman\", \"age\": 30, \"city\": \"New York\"},\n",
    "    \"person2\": {\"name\": \"Sohun\", \"age\": 25, \"city\": \"Los Angeles\"},\n",
    "    \"person3\": {\"name\": \"Fabian\", \"age\": 28, \"city\": \"Chicago\"},\n",
    "    \"person4\": {\"name\": \"Dina\", \"age\": 35, \"city\": \"San Francisco\"},\n",
    "    \"person5\": {\"name\": \"Sumaiya\", \"age\": 22, \"city\": \"Seattle\"},\n",
    "    \"person6\": {\"name\": \"CLark\", \"age\": 27, \"city\": \"Miami\"},\n",
    "    \"person7\": {\"name\": \"Sanjida\", \"age\": 40, \"city\": \"Denver\"},\n",
    "    \"person8\": {\"name\": \"Sabah\", \"age\": 33, \"city\": \"Boston\"},\n",
    "    \"person9\": {\"name\": \"Selen\", \"age\": 29, \"city\": \"Austin\"},\n",
    "    \"person10\": {\"name\": \"Kevin\", \"age\": 31, \"city\": \"Phoenix\"},\n",
    "}\n",
    "\n",
    "search_person = input(\"Enter the person (person1 to person10) to retrieve their details: \")\n",
    "\n",
    "if search_person in persons:\n",
    "    person_details = persons[search_person]\n",
    "    print(f\"Details of {search_person}:\")\n",
    "    for key, value in person_details.items():\n",
    "        print(f\"{key}: {value}\")\n",
    "else:\n",
    "    print(\"Person Not Found\")\n"
   ]
  },
  {
   "cell_type": "markdown",
   "id": "95e5833b-4493-49ce-b4f3-a01b27c5110e",
   "metadata": {},
   "source": [
    "# Break & Continue: "
   ]
  },
  {
   "cell_type": "code",
   "execution_count": 21,
   "id": "d5a58bc8-e8b2-4430-87ae-b10f214c4c07",
   "metadata": {},
   "outputs": [
    {
     "name": "stdin",
     "output_type": "stream",
     "text": [
      " 5\n"
     ]
    },
    {
     "name": "stdout",
     "output_type": "stream",
     "text": [
      "Prime\n"
     ]
    }
   ],
   "source": [
    "num = int(input())\n",
    "for i in range(2, num):\n",
    "    if num % i == 0:\n",
    "        print(\"Not prime\")\n",
    "        break\n",
    "else:\n",
    "    print(\"Prime\")\n"
   ]
  },
  {
   "cell_type": "code",
   "execution_count": 22,
   "id": "3b70ab0d-3a30-4db6-8602-6313f343c437",
   "metadata": {},
   "outputs": [
    {
     "name": "stdout",
     "output_type": "stream",
     "text": [
      "2\n",
      "4\n",
      "6\n",
      "8\n",
      "10\n",
      "12\n",
      "14\n",
      "16\n",
      "18\n",
      "20\n"
     ]
    }
   ],
   "source": [
    "for num in range(1, 21):\n",
    "    if num % 2 != 0:\n",
    "        continue\n",
    "    print(num)\n"
   ]
  },
  {
   "cell_type": "code",
   "execution_count": 23,
   "id": "59de8c9e-c849-4b6e-8036-0de6f3ed4483",
   "metadata": {},
   "outputs": [
    {
     "name": "stdin",
     "output_type": "stream",
     "text": [
      "Enter a password:  23Dg%wd\n",
      "Enter a password:  213jsah^&GSH\n"
     ]
    },
    {
     "name": "stdout",
     "output_type": "stream",
     "text": [
      "Password accepted.\n"
     ]
    }
   ],
   "source": [
    "while True:\n",
    "    password = input(\"Enter a password: \")\n",
    "    if len(password) < 8 or not any(char.isupper() for char in password) or not any(char.islower() for char in password) or not any(char.isdigit() for char in password):\n",
    "        continue\n",
    "    print(\"Password accepted.\")\n",
    "    break\n"
   ]
  },
  {
   "cell_type": "code",
   "execution_count": 24,
   "id": "ef2d97c0-5fa0-483b-b159-1c3f160a08d3",
   "metadata": {},
   "outputs": [
    {
     "name": "stdout",
     "output_type": "stream",
     "text": [
      "3\n",
      "5\n",
      "6\n",
      "9\n",
      "10\n",
      "12\n",
      "15\n",
      "18\n",
      "20\n",
      "21\n",
      "24\n",
      "25\n",
      "27\n",
      "30\n",
      "33\n",
      "35\n",
      "36\n",
      "39\n",
      "40\n",
      "42\n",
      "45\n",
      "48\n",
      "50\n"
     ]
    }
   ],
   "source": [
    "for num in range(1, 51):\n",
    "    if num % 3 != 0 and num % 5 != 0:\n",
    "        continue\n",
    "    print(num)\n"
   ]
  },
  {
   "cell_type": "code",
   "execution_count": 26,
   "id": "11a9b6dc-da7f-4b8b-b470-ebd3c30d5937",
   "metadata": {},
   "outputs": [
    {
     "name": "stdin",
     "output_type": "stream",
     "text": [
      "Enter a positive number:  2\n",
      "Enter a positive number:  3\n",
      "Enter a positive number:  4\n",
      "Enter a positive number:  56\n",
      "Enter a positive number:  -9\n"
     ]
    },
    {
     "name": "stdout",
     "output_type": "stream",
     "text": [
      "Sum of positive numbers: 65\n"
     ]
    }
   ],
   "source": [
    "total = 0\n",
    "while True:\n",
    "    num = int(input(\"Enter a positive number: \"))\n",
    "    if num < 0:\n",
    "        break\n",
    "    total += num\n",
    "print(\"Sum of positive numbers:\", total)\n"
   ]
  },
  {
   "cell_type": "code",
   "execution_count": 27,
   "id": "45650928-fa2a-42d5-bd39-612a69d606ef",
   "metadata": {},
   "outputs": [
    {
     "name": "stdin",
     "output_type": "stream",
     "text": [
      "Enter a word:  do it\n"
     ]
    },
    {
     "name": "stdout",
     "output_type": "stream",
     "text": [
      "Not a palindrome\n"
     ]
    }
   ],
   "source": [
    "word = input(\"Enter a word: \")\n",
    "if len(word) < 3:\n",
    "    print(\"Word is too short.\")\n",
    "    exit()\n",
    "if word == word[::-1]:\n",
    "    print(\"Palindrome\")\n",
    "else:\n",
    "    print(\"Not a palindrome\")\n"
   ]
  },
  {
   "cell_type": "code",
   "execution_count": 28,
   "id": "54abbd8a-2f30-4ecb-928f-b61d1bcbd8ae",
   "metadata": {},
   "outputs": [
    {
     "name": "stdout",
     "output_type": "stream",
     "text": [
      "9\n"
     ]
    }
   ],
   "source": [
    "numbers = [2, 4, 6, 8, 9, 10]\n",
    "for num in numbers:\n",
    "    if num % 2 != 0:\n",
    "        print(num)\n",
    "        break\n"
   ]
  },
  {
   "cell_type": "code",
   "execution_count": 29,
   "id": "263e6d2c-8ddc-4312-85b8-42a48cc0e5a6",
   "metadata": {},
   "outputs": [
    {
     "name": "stdin",
     "output_type": "stream",
     "text": [
      "Guess the number (1-100):  77\n",
      "Guess the number (1-100):  34\n",
      "Guess the number (1-100):  2\n",
      "Guess the number (1-100):  2\n",
      "Guess the number (1-100):  3\n",
      "Guess the number (1-100):  2\n",
      "Guess the number (1-100):  2\n",
      "Guess the number (1-100):  2\n",
      "Guess the number (1-100):  2\n",
      "Guess the number (1-100):  2\n",
      "Guess the number (1-100):  2\n",
      "Guess the number (1-100):  2\n",
      "Guess the number (1-100):  2\n",
      "Guess the number (1-100):  2\n",
      "Guess the number (1-100):  2\n",
      "Guess the number (1-100):  23\n",
      "Guess the number (1-100):  4\n",
      "Guess the number (1-100):  5\n",
      "Guess the number (1-100):  6\n",
      "Guess the number (1-100):  7\n"
     ]
    },
    {
     "name": "stdout",
     "output_type": "stream",
     "text": [
      "Congratulations! You guessed the correct number.\n"
     ]
    }
   ],
   "source": [
    "import random\n",
    "\n",
    "target = random.randint(1, 10)\n",
    "while True:\n",
    "    guess = int(input(\"Guess the number (1-10): \"))\n",
    "    if guess == target:\n",
    "        print(\"Congratulations! You guessed the correct number.\")\n",
    "        break\n",
    "    else:\n",
    "        continue\n"
   ]
  },
  {
   "cell_type": "code",
   "execution_count": 31,
   "id": "d53d165c-c6db-4de4-b193-0f6995ce0554",
   "metadata": {},
   "outputs": [
    {
     "name": "stdin",
     "output_type": "stream",
     "text": [
      "Enter a string:  asad\n"
     ]
    },
    {
     "name": "stdout",
     "output_type": "stream",
     "text": [
      "Number of vowels: 2\n"
     ]
    }
   ],
   "source": [
    "text = input(\"Enter a string: \")\n",
    "count = 0\n",
    "for char in text:\n",
    "    if char.lower() in \"aeiou\":\n",
    "        count += 1\n",
    "print(\"Number of vowels:\", count)\n"
   ]
  },
  {
   "cell_type": "code",
   "execution_count": 32,
   "id": "c67cf14c-25db-4d78-aa01-363bff000756",
   "metadata": {},
   "outputs": [
    {
     "name": "stdin",
     "output_type": "stream",
     "text": [
      "Enter a string:  asad\n"
     ]
    },
    {
     "name": "stdout",
     "output_type": "stream",
     "text": [
      "Not all characters are unique.\n"
     ]
    }
   ],
   "source": [
    "text = input(\"Enter a string: \")\n",
    "for char in text:\n",
    "    if text.count(char) > 1:\n",
    "        print(\"Not all characters are unique.\")\n",
    "        break\n",
    "else:\n",
    "    print(\"All characters are unique.\")\n"
   ]
  },
  {
   "cell_type": "markdown",
   "id": "c182e19a-b0de-4dca-9f02-cec21c39bd2d",
   "metadata": {},
   "source": [
    "# Functions Problems:\n"
   ]
  },
  {
   "cell_type": "code",
   "execution_count": 33,
   "id": "a1500f36-917c-4f35-a7a9-6308e1cea07f",
   "metadata": {},
   "outputs": [
    {
     "name": "stdout",
     "output_type": "stream",
     "text": [
      "3628800\n"
     ]
    }
   ],
   "source": [
    "def factorial(n):\n",
    "    if n == 0:\n",
    "        return 1\n",
    "    result = 1\n",
    "    for i in range(1, n + 1):\n",
    "        result *= i\n",
    "    return result\n",
    "\n",
    "print(factorial(10))\n"
   ]
  },
  {
   "cell_type": "code",
   "execution_count": 34,
   "id": "42b9865b-06cb-4033-9243-bee5045adcc2",
   "metadata": {},
   "outputs": [
    {
     "name": "stdout",
     "output_type": "stream",
     "text": [
      "True\n"
     ]
    }
   ],
   "source": [
    "def is_palindrome(word):\n",
    "    return word == word[::-1]\n",
    "\n",
    "print(is_palindrome(\"radar\")) "
   ]
  },
  {
   "cell_type": "code",
   "execution_count": 35,
   "id": "cb63bcb7-6298-46bc-8492-8574972adde3",
   "metadata": {},
   "outputs": [
    {
     "name": "stdout",
     "output_type": "stream",
     "text": [
      "Odd\n"
     ]
    }
   ],
   "source": [
    "def even_or_odd(num):\n",
    "    return \"Even\" if num % 2 == 0 else \"Odd\"\n",
    "\n",
    "print(even_or_odd(7))\n"
   ]
  },
  {
   "cell_type": "code",
   "execution_count": 36,
   "id": "11ad8764-361d-4744-85ae-7e400ead47b3",
   "metadata": {},
   "outputs": [
    {
     "name": "stdout",
     "output_type": "stream",
     "text": [
      "15\n"
     ]
    }
   ],
   "source": [
    "def list_sum(nums):\n",
    "    return sum(nums)\n",
    "\n",
    "print(list_sum([1, 2, 3, 4, 5]))\n"
   ]
  },
  {
   "cell_type": "code",
   "execution_count": 37,
   "id": "094ea906-cd8a-47a7-9c79-b3c405d73638",
   "metadata": {},
   "outputs": [
    {
     "name": "stdout",
     "output_type": "stream",
     "text": [
      "12\n"
     ]
    }
   ],
   "source": [
    "def gcd(a, b):\n",
    "    while b:\n",
    "        a, b = b, a % b\n",
    "    return a\n",
    "\n",
    "print(gcd(24, 36))"
   ]
  },
  {
   "cell_type": "code",
   "execution_count": 38,
   "id": "291cdb82-4ba7-4917-ba3d-23c40605c9b0",
   "metadata": {},
   "outputs": [
    {
     "name": "stdout",
     "output_type": "stream",
     "text": [
      "True\n"
     ]
    }
   ],
   "source": [
    "def is_leap_year(year):\n",
    "    return (year % 4 == 0 and year % 100 != 0) or (year % 400 == 0)\n",
    "\n",
    "print(is_leap_year(2020))"
   ]
  },
  {
   "cell_type": "markdown",
   "id": "27301d04-995e-4b1b-bf6f-1e17d23fefa2",
   "metadata": {},
   "source": [
    "# Nested Functions Problems:\n"
   ]
  },
  {
   "cell_type": "code",
   "execution_count": 39,
   "id": "74bba312-2f6d-4775-a273-131f79be429d",
   "metadata": {},
   "outputs": [
    {
     "name": "stdout",
     "output_type": "stream",
     "text": [
      "17\n"
     ]
    }
   ],
   "source": [
    "def math_operations(num1, num2, num3, operation):\n",
    "    if operation == 'add':\n",
    "        return num1 + num2 + num3\n",
    "    elif operation == 'subtract':\n",
    "        return num1 - num2 - num3\n",
    "    elif operation == 'multiply':\n",
    "        return num1 * num2 * num3\n",
    "    elif operation == 'divide':\n",
    "        return num1 / num2 / num3\n",
    "\n",
    "result = math_operations(10, 5, 2, 'add')\n",
    "print(result)\n"
   ]
  },
  {
   "cell_type": "code",
   "execution_count": 40,
   "id": "b877a4e4-fd20-4c3a-8da5-78e9a3e66a49",
   "metadata": {},
   "outputs": [
    {
     "name": "stdout",
     "output_type": "stream",
     "text": [
      "Hello, Sohun! How are you today?\n"
     ]
    }
   ],
   "source": [
    "def greeting_generator(name):\n",
    "    def custom_greeting(message):\n",
    "        return f\"Hello, {name}! {message}\"\n",
    "\n",
    "    return custom_greeting\n",
    "\n",
    "generate_greeting = greeting_generator(\"Sohun\")\n",
    "greeting = generate_greeting(\"How are you today?\")\n",
    "print(greeting)"
   ]
  },
  {
   "cell_type": "code",
   "execution_count": 41,
   "id": "08f7086d-6c1e-4f28-8e38-7c7b0216ddd0",
   "metadata": {},
   "outputs": [
    {
     "name": "stdout",
     "output_type": "stream",
     "text": [
      "89.6\n"
     ]
    }
   ],
   "source": [
    "def temperature_converter(temp, scale):\n",
    "    def celsius_to_fahrenheit(celsius):\n",
    "        return celsius * 9/5 + 32\n",
    "\n",
    "    def fahrenheit_to_celsius(fahrenheit):\n",
    "        return (fahrenheit - 32) * 5/9\n",
    "\n",
    "    if scale == 'C':\n",
    "        converted_temp = celsius_to_fahrenheit(temp)\n",
    "        print(converted_temp)\n",
    "    elif scale == 'F':\n",
    "        converted_temp = fahrenheit_to_celsius(temp)\n",
    "        print(converted_temp)\n",
    "\n",
    "temperature_converter(32, 'C')\n"
   ]
  },
  {
   "cell_type": "markdown",
   "id": "02906d9f-4f7d-4eb0-a79c-c6f1a75376a5",
   "metadata": {},
   "source": [
    "# Recursion"
   ]
  },
  {
   "cell_type": "code",
   "execution_count": 42,
   "id": "d751650a-3d38-4dd6-95d2-f5813f84a00d",
   "metadata": {},
   "outputs": [
    {
     "name": "stdout",
     "output_type": "stream",
     "text": [
      "120\n"
     ]
    }
   ],
   "source": [
    "def factorial(n):\n",
    "    if n == 0:\n",
    "        return 1\n",
    "    return n * factorial(n - 1)\n",
    "\n",
    "print(factorial(5))\n"
   ]
  },
  {
   "cell_type": "code",
   "execution_count": 43,
   "id": "b8a9b4e9-e6a9-43e0-be49-25b087fa6d2c",
   "metadata": {},
   "outputs": [
    {
     "name": "stdout",
     "output_type": "stream",
     "text": [
      "13\n"
     ]
    }
   ],
   "source": [
    "def Fibonacci(n):\n",
    "    if n <= 0:\n",
    "        return 0\n",
    "    elif n == 1:\n",
    "        return 1\n",
    "    else:\n",
    "        return Fibonacci(n - 1) + Fibonacci(n - 2)\n",
    "\n",
    "print(Fibonacci(7))\n"
   ]
  },
  {
   "cell_type": "code",
   "execution_count": 44,
   "id": "42ad828e-42cf-481a-9ce3-512071d986f1",
   "metadata": {},
   "outputs": [
    {
     "name": "stdout",
     "output_type": "stream",
     "text": [
      "4\n"
     ]
    }
   ],
   "source": [
    "def binary_search(arr, target, left=0, right=None):\n",
    "    if right is None:\n",
    "        right = len(arr) - 1\n",
    "    if left > right:\n",
    "        return -1\n",
    "\n",
    "    mid = (left + right) // 2\n",
    "\n",
    "    if arr[mid] == target:\n",
    "        return mid\n",
    "    elif arr[mid] < target:\n",
    "        return binary_search(arr, target, mid + 1, right)\n",
    "    else:\n",
    "        return binary_search(arr, target, left, mid - 1)\n",
    "\n",
    "arr = [1, 2, 3, 4, 5, 6, 7, 8, 9]\n",
    "target = 5\n",
    "print(binary_search(arr, target))\n"
   ]
  },
  {
   "cell_type": "code",
   "execution_count": 45,
   "id": "04e416a1-fa73-44f9-a638-44d8b325dcd3",
   "metadata": {},
   "outputs": [
    {
     "name": "stdout",
     "output_type": "stream",
     "text": [
      "8\n"
     ]
    }
   ],
   "source": [
    "def power(base, exponent):\n",
    "    if exponent == 0:\n",
    "        return 1\n",
    "    else:\n",
    "        return base * power(base, exponent - 1)\n",
    "\n",
    "print(power(2, 3))\n"
   ]
  },
  {
   "cell_type": "code",
   "execution_count": null,
   "id": "f88a7553-fca3-4c4b-aa1d-50dd4002da62",
   "metadata": {},
   "outputs": [],
   "source": []
  },
  {
   "cell_type": "code",
   "execution_count": null,
   "id": "7b3b10c0-1f5f-485b-8258-1ab8ded39695",
   "metadata": {},
   "outputs": [],
   "source": []
  }
 ],
 "metadata": {
  "kernelspec": {
   "display_name": "Python 3 (ipykernel)",
   "language": "python",
   "name": "python3"
  },
  "language_info": {
   "codemirror_mode": {
    "name": "ipython",
    "version": 3
   },
   "file_extension": ".py",
   "mimetype": "text/x-python",
   "name": "python",
   "nbconvert_exporter": "python",
   "pygments_lexer": "ipython3",
   "version": "3.11.4"
  }
 },
 "nbformat": 4,
 "nbformat_minor": 5
}
